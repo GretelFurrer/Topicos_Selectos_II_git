{
 "cells": [
  {
   "cell_type": "markdown",
   "id": "18842887",
   "metadata": {},
   "source": [
    "## Análisis exploratorio sobre los datos de WIDS 2024\n",
    "\n",
    "\n",
    "## Competition Overview\n",
    "The Women in Data Science (WiDS) Datathon 2024 Challenge 1 focuses on **equity in healthcare AI**, specifically addressing demographic parity in medical diagnosis predictions.\n",
    "\n",
    "## Problem Statement\n",
    "Develop machine learning models that can predict medical diagnoses while ensuring **equitable performance across different demographic groups**. The challenge emphasizes creating AI systems that work fairly for all patients regardless of their demographic characteristics.\n",
    "\n",
    "## Dataset Description\n",
    "\n",
    "### Files Available\n",
    "- **training.csv** (11.3 MB) - Training dataset with features and target labels\n",
    "- **test.csv** (5.0 MB) - Test dataset for final predictions  \n",
    "- **sample_submission.csv** (69.5 KB) - Example submission format\n",
    "\n",
    "### Key Features\n",
    "The dataset contains medical and demographic information including:\n",
    "- **Medical indicators**: Various health metrics and diagnostic measurements\n",
    "- **Demographic variables**: Age, gender, ethnicity, and other demographic factors\n",
    "- **Target variable**: Medical diagnosis outcome (binary classification)\n",
    "\n",
    "## Evaluation Criteria\n",
    "Models are evaluated on:\n",
    "1. **Overall predictive accuracy**\n",
    "2. **Demographic parity**: Ensuring equal performance across demographic groups\n",
    "3. **Fairness metrics**: Measuring bias and equity in predictions\n",
    "\n",
    "## Challenge Focus\n",
    "This competition specifically addresses the critical issue of **algorithmic bias in healthcare AI**, encouraging participants to develop models that are both accurate and equitable across diverse patient populations.\n",
    "\n",
    "## Data Ethics\n",
    "Participants must consider:\n",
    "- Patient privacy and data protection\n",
    "- Bias mitigation techniques\n",
    "- Fairness-aware machine learning approaches\n",
    "- Responsible AI development practices\n",
    "\n",
    "---\n",
    "*Source: [Kaggle WIDS Datathon 2024 Challenge 1](https://www.kaggle.com/competitions/widsdatathon2024-challenge1/data)*\n"
   ]
  },
  {
   "cell_type": "code",
   "execution_count": 12,
   "id": "50fd8a63",
   "metadata": {},
   "outputs": [],
   "source": [
    "## Importacion de librerías\n",
    "import numpy as np\n",
    "import pandas as pd\n",
    "import matplotlib.pyplot as plt\n",
    "import seaborn as sns\n",
    "\n",
    "from sklearn.impute import SimpleImputer\n",
    "from sklearn.model_selection import train_test_split\n",
    "from sklearn.linear_model import LogisticRegression\n",
    "from sklearn.svm import SVC\n",
    "from sklearn.naive_bayes import GaussianNB\n",
    "from sklearn.neighbors import KNeighborsClassifier\n",
    "from sklearn.tree import DecisionTreeClassifier\n",
    "from sklearn.model_selection import train_test_split, StratifiedKFold, cross_validate\n",
    "from sklearn.metrics import confusion_matrix, classification_report, roc_curve, accuracy_score, roc_auc_score, ConfusionMatrixDisplay\n",
    "from sklearn.feature_selection import RFECV\n",
    "from sklearn.model_selection import cross_val_score"
   ]
  },
  {
   "cell_type": "code",
   "execution_count": 13,
   "id": "8abc9a2d",
   "metadata": {},
   "outputs": [
    {
     "data": {
      "application/vnd.microsoft.datawrangler.viewer.v0+json": {
       "columns": [
        {
         "name": "index",
         "rawType": "int64",
         "type": "integer"
        },
        {
         "name": "patient_race",
         "rawType": "object",
         "type": "unknown"
        },
        {
         "name": "payer_type",
         "rawType": "object",
         "type": "string"
        },
        {
         "name": "patient_state",
         "rawType": "object",
         "type": "string"
        },
        {
         "name": "patient_zip3",
         "rawType": "int64",
         "type": "integer"
        },
        {
         "name": "patient_age",
         "rawType": "int64",
         "type": "integer"
        },
        {
         "name": "patient_gender",
         "rawType": "object",
         "type": "string"
        },
        {
         "name": "bmi",
         "rawType": "float64",
         "type": "float"
        },
        {
         "name": "breast_cancer_diagnosis_code",
         "rawType": "object",
         "type": "string"
        },
        {
         "name": "metastatic_cancer_diagnosis_code",
         "rawType": "object",
         "type": "string"
        },
        {
         "name": "Region",
         "rawType": "object",
         "type": "string"
        },
        {
         "name": "Division",
         "rawType": "object",
         "type": "string"
        },
        {
         "name": "population",
         "rawType": "float64",
         "type": "float"
        },
        {
         "name": "density",
         "rawType": "float64",
         "type": "float"
        },
        {
         "name": "age_median",
         "rawType": "float64",
         "type": "float"
        },
        {
         "name": "age_under_10",
         "rawType": "float64",
         "type": "float"
        },
        {
         "name": "age_10_to_19",
         "rawType": "float64",
         "type": "float"
        },
        {
         "name": "age_20s",
         "rawType": "float64",
         "type": "float"
        },
        {
         "name": "age_30s",
         "rawType": "float64",
         "type": "float"
        },
        {
         "name": "age_40s",
         "rawType": "float64",
         "type": "float"
        },
        {
         "name": "age_50s",
         "rawType": "float64",
         "type": "float"
        },
        {
         "name": "age_60s",
         "rawType": "float64",
         "type": "float"
        },
        {
         "name": "age_70s",
         "rawType": "float64",
         "type": "float"
        },
        {
         "name": "age_over_80",
         "rawType": "float64",
         "type": "float"
        },
        {
         "name": "male",
         "rawType": "float64",
         "type": "float"
        },
        {
         "name": "female",
         "rawType": "float64",
         "type": "float"
        },
        {
         "name": "married",
         "rawType": "float64",
         "type": "float"
        },
        {
         "name": "divorced",
         "rawType": "float64",
         "type": "float"
        },
        {
         "name": "never_married",
         "rawType": "float64",
         "type": "float"
        },
        {
         "name": "widowed",
         "rawType": "float64",
         "type": "float"
        },
        {
         "name": "family_size",
         "rawType": "float64",
         "type": "float"
        },
        {
         "name": "family_dual_income",
         "rawType": "float64",
         "type": "float"
        },
        {
         "name": "income_household_median",
         "rawType": "float64",
         "type": "float"
        },
        {
         "name": "income_household_under_5",
         "rawType": "float64",
         "type": "float"
        },
        {
         "name": "income_household_5_to_10",
         "rawType": "float64",
         "type": "float"
        },
        {
         "name": "income_household_10_to_15",
         "rawType": "float64",
         "type": "float"
        },
        {
         "name": "income_household_15_to_20",
         "rawType": "float64",
         "type": "float"
        },
        {
         "name": "income_household_20_to_25",
         "rawType": "float64",
         "type": "float"
        },
        {
         "name": "income_household_25_to_35",
         "rawType": "float64",
         "type": "float"
        },
        {
         "name": "income_household_35_to_50",
         "rawType": "float64",
         "type": "float"
        },
        {
         "name": "income_household_50_to_75",
         "rawType": "float64",
         "type": "float"
        },
        {
         "name": "income_household_75_to_100",
         "rawType": "float64",
         "type": "float"
        },
        {
         "name": "income_household_100_to_150",
         "rawType": "float64",
         "type": "float"
        },
        {
         "name": "income_household_150_over",
         "rawType": "float64",
         "type": "float"
        },
        {
         "name": "income_household_six_figure",
         "rawType": "float64",
         "type": "float"
        },
        {
         "name": "income_individual_median",
         "rawType": "float64",
         "type": "float"
        },
        {
         "name": "home_ownership",
         "rawType": "float64",
         "type": "float"
        },
        {
         "name": "housing_units",
         "rawType": "float64",
         "type": "float"
        },
        {
         "name": "home_value",
         "rawType": "float64",
         "type": "float"
        },
        {
         "name": "rent_median",
         "rawType": "float64",
         "type": "float"
        },
        {
         "name": "rent_burden",
         "rawType": "float64",
         "type": "float"
        },
        {
         "name": "education_less_highschool",
         "rawType": "float64",
         "type": "float"
        },
        {
         "name": "education_highschool",
         "rawType": "float64",
         "type": "float"
        },
        {
         "name": "education_some_college",
         "rawType": "float64",
         "type": "float"
        },
        {
         "name": "education_bachelors",
         "rawType": "float64",
         "type": "float"
        },
        {
         "name": "education_graduate",
         "rawType": "float64",
         "type": "float"
        },
        {
         "name": "education_college_or_above",
         "rawType": "float64",
         "type": "float"
        },
        {
         "name": "education_stem_degree",
         "rawType": "float64",
         "type": "float"
        },
        {
         "name": "labor_force_participation",
         "rawType": "float64",
         "type": "float"
        },
        {
         "name": "unemployment_rate",
         "rawType": "float64",
         "type": "float"
        },
        {
         "name": "self_employed",
         "rawType": "float64",
         "type": "float"
        },
        {
         "name": "farmer",
         "rawType": "float64",
         "type": "float"
        },
        {
         "name": "race_white",
         "rawType": "float64",
         "type": "float"
        },
        {
         "name": "race_black",
         "rawType": "float64",
         "type": "float"
        },
        {
         "name": "race_asian",
         "rawType": "float64",
         "type": "float"
        },
        {
         "name": "race_native",
         "rawType": "float64",
         "type": "float"
        },
        {
         "name": "race_pacific",
         "rawType": "float64",
         "type": "float"
        },
        {
         "name": "race_other",
         "rawType": "float64",
         "type": "float"
        },
        {
         "name": "race_multiple",
         "rawType": "float64",
         "type": "float"
        },
        {
         "name": "hispanic",
         "rawType": "float64",
         "type": "float"
        },
        {
         "name": "disabled",
         "rawType": "float64",
         "type": "float"
        },
        {
         "name": "poverty",
         "rawType": "float64",
         "type": "float"
        },
        {
         "name": "limited_english",
         "rawType": "float64",
         "type": "float"
        },
        {
         "name": "commute_time",
         "rawType": "float64",
         "type": "float"
        },
        {
         "name": "health_uninsured",
         "rawType": "float64",
         "type": "float"
        },
        {
         "name": "veteran",
         "rawType": "float64",
         "type": "float"
        },
        {
         "name": "Ozone",
         "rawType": "float64",
         "type": "float"
        },
        {
         "name": "PM25",
         "rawType": "float64",
         "type": "float"
        },
        {
         "name": "N02",
         "rawType": "float64",
         "type": "float"
        },
        {
         "name": "DiagPeriodL90D",
         "rawType": "int64",
         "type": "integer"
        }
       ],
       "ref": "42e5d72b-fa1f-462b-a24c-158ebcbeb90d",
       "rows": [
        [
         "0",
         null,
         "MEDICAID",
         "CA",
         "924",
         "84",
         "F",
         null,
         "C50919",
         "C7989",
         "West",
         "Pacific",
         "31437.75",
         "1189.5625",
         "30.64285714",
         "16.01428571",
         "15.54285714",
         "17.61428571",
         "14.01428571",
         "11.61428571",
         "11.55714286",
         "7.571428571",
         "4.0",
         "2.1",
         "49.85714286",
         "50.14285714",
         "36.57142857",
         "11.88571429",
         "47.11428571",
         "4.442857143",
         "3.928571429",
         "52.22857143",
         "52996.28571",
         "3.142857143",
         "4.0",
         "6.157142857",
         "5.142857143",
         "6.271428571",
         "10.14285714",
         "13.3",
         "20.0",
         "12.74285714",
         "11.57142857",
         "7.528571429",
         "19.1",
         "24563.57143",
         "44.58571429",
         "8674.5",
         "264634.2857",
         "1165.0",
         "37.44285714",
         "33.25714286",
         "29.2",
         "25.91428571",
         "8.357142857",
         "3.257142857",
         "11.61428571",
         "39.55714286",
         "61.52857143",
         "8.471428571",
         "13.42857143",
         "0.0",
         "44.1",
         "13.1",
         "5.1",
         "1.485714286",
         "0.342857143",
         "27.11428571",
         "8.757142857",
         "66.68571429",
         "12.87142857",
         "22.54285714",
         "10.1",
         "27.81428571",
         "11.2",
         "3.5",
         "52.23720962",
         "8.650554933",
         "18.60652816",
         "1"
        ],
        [
         "1",
         "White",
         "COMMERCIAL",
         "CA",
         "928",
         "62",
         "F",
         "28.49",
         "C50411",
         "C773",
         "West",
         "Pacific",
         "39121.87879",
         "2295.939394",
         "38.2",
         "11.87878788",
         "13.35454545",
         "14.23030303",
         "13.41818182",
         "13.33333333",
         "14.06060606",
         "10.24848485",
         "5.951515152",
         "3.503030303",
         "49.89393939",
         "50.10606061",
         "50.24545455",
         "9.827272727",
         "35.29090909",
         "4.651515152",
         "3.622727273",
         "61.73636364",
         "102741.6364",
         "2.327272727",
         "1.536363636",
         "2.648484848",
         "2.178787879",
         "2.409090909",
         "5.163636364",
         "7.972727273",
         "13.93636364",
         "12.46969697",
         "19.76060606",
         "29.5969697",
         "49.35757576",
         "41287.27273",
         "61.46363636",
         "11725.66667",
         "677688.5152",
         "2003.125",
         "34.753125",
         "14.23030303",
         "19.98787879",
         "29.7969697",
         "23.73939394",
         "12.24545455",
         "35.98484848",
         "47.91818182",
         "65.23030303",
         "5.103030303",
         "15.22424242",
         "0.027272727",
         "54.03030303",
         "2.527272727",
         "20.82727273",
         "0.587878788",
         "0.3",
         "11.64545455",
         "10.08181818",
         "37.94848485",
         "8.957575758",
         "10.10909091",
         "8.057575758",
         "30.60606061",
         "7.018181818",
         "4.103030303",
         "42.30112108",
         "8.487175281",
         "20.11317862",
         "1"
        ],
        [
         "2",
         "White",
         "COMMERCIAL",
         "TX",
         "760",
         "43",
         "F",
         "38.09",
         "C50112",
         "C773",
         "South",
         "West South Central",
         "21996.68333",
         "626.2366667",
         "37.90666667",
         "13.02833333",
         "14.46333333",
         "12.53166667",
         "13.545",
         "12.86",
         "12.77",
         "11.42666667",
         "6.565",
         "2.811666667",
         "50.12333333",
         "49.87666667",
         "55.75333333",
         "12.33",
         "27.195",
         "4.71",
         "3.260666667",
         "55.80166667",
         "85984.74138",
         "2.483333333",
         "1.305",
         "2.716666667",
         "2.938333333",
         "2.766666667",
         "6.763333333",
         "12.06166667",
         "15.835",
         "13.56",
         "20.875",
         "18.68",
         "39.555",
         "40399.03333",
         "72.745",
         "7786.583333",
         "237713.0545",
         "1235.907407",
         "29.35849057",
         "10.81166667",
         "27.03833333",
         "32.36833333",
         "19.67833333",
         "10.115",
         "29.79333333",
         "37.30847458",
         "66.42833333",
         "4.56",
         "13.7220339",
         "3.650847458",
         "75.82",
         "9.231666667",
         "3.618333333",
         "0.463333333",
         "0.146666667",
         "3.816666667",
         "6.898333333",
         "19.37",
         "11.25333333",
         "9.663333333",
         "3.356666667",
         "31.39491525",
         "15.06666667",
         "7.446666667",
         "40.10820696",
         "7.642753203",
         "14.83935089",
         "1"
        ],
        [
         "3",
         "White",
         "COMMERCIAL",
         "CA",
         "926",
         "45",
         "F",
         null,
         "C50212",
         "C773",
         "West",
         "Pacific",
         "32795.32558",
         "1896.22093",
         "42.87142857",
         "10.07142857",
         "12.13571429",
         "12.53809524",
         "12.46428571",
         "12.65",
         "14.84761905",
         "12.28095238",
         "8.216666667",
         "4.75952381",
         "49.06666667",
         "50.93333333",
         "52.6047619",
         "11.62380952",
         "31.14285714",
         "4.623809524",
         "3.098095238",
         "54.56428571",
         "120533.8333",
         "3.435714286",
         "1.273809524",
         "2.180952381",
         "2.211904762",
         "2.1",
         "4.380952381",
         "5.885714286",
         "10.89761905",
         "10.72142857",
         "18.85",
         "38.05714286",
         "56.90714286",
         "55336.28571",
         "59.22142857",
         "12171.30233",
         "1012474.22",
         "2354.738095",
         "32.03095238",
         "5.835714286",
         "12.1452381",
         "26.26904762",
         "33.28571429",
         "22.45952381",
         "55.7452381",
         "48.93809524",
         "64.43095238",
         "5.264285714",
         "18.50238095",
         "0.052380952",
         "65.01428571",
         "1.438095238",
         "18.8452381",
         "0.430952381",
         "0.252380952",
         "5.428571429",
         "8.611904762",
         "16.71666667",
         "8.845238095",
         "8.688095238",
         "5.280952381",
         "27.56190476",
         "4.404761905",
         "4.80952381",
         "42.07007511",
         "7.229392562",
         "15.89412333",
         "0"
        ],
        [
         "4",
         null,
         "COMMERCIAL",
         "ID",
         "836",
         "55",
         "F",
         null,
         "1749",
         "C773",
         "West",
         "Mountain",
         "10886.26",
         "116.886",
         "43.47346939",
         "10.824",
         "13.976",
         "9.492",
         "10.364",
         "12.6",
         "14.992",
         "14.836",
         "9.462",
         "3.466",
         "52.312",
         "47.688",
         "57.882",
         "14.964",
         "21.76",
         "5.406",
         "3.352653061",
         "47.21428571",
         "61075.13043",
         "2.594",
         "1.96",
         "3.168",
         "3.24",
         "4.778",
         "11.462",
         "15.656",
         "22.432",
         "12.48",
         "13.62",
         "8.606",
         "22.226",
         "29073.18367",
         "77.098",
         "3768.06",
         "249845.7179",
         "919.7435897",
         "27.02972973",
         "11.576",
         "29.59",
         "39.168",
         "13.978",
         "5.684",
         "19.662",
         "42.33265306",
         "57.488",
         "4.258",
         "13.02954545",
         "6.890909091",
         "86.712",
         "0.426",
         "0.656",
         "0.76",
         "0.108",
         "5.08",
         "6.258",
         "13.334",
         "15.276",
         "11.224",
         "1.946",
         "26.17021277",
         "12.088",
         "13.106",
         "41.35605766",
         "4.110748854",
         "11.72219715",
         "0"
        ]
       ],
       "shape": {
        "columns": 79,
        "rows": 5
       }
      },
      "text/html": [
       "<div>\n",
       "<style scoped>\n",
       "    .dataframe tbody tr th:only-of-type {\n",
       "        vertical-align: middle;\n",
       "    }\n",
       "\n",
       "    .dataframe tbody tr th {\n",
       "        vertical-align: top;\n",
       "    }\n",
       "\n",
       "    .dataframe thead th {\n",
       "        text-align: right;\n",
       "    }\n",
       "</style>\n",
       "<table border=\"1\" class=\"dataframe\">\n",
       "  <thead>\n",
       "    <tr style=\"text-align: right;\">\n",
       "      <th></th>\n",
       "      <th>patient_race</th>\n",
       "      <th>payer_type</th>\n",
       "      <th>patient_state</th>\n",
       "      <th>patient_zip3</th>\n",
       "      <th>patient_age</th>\n",
       "      <th>patient_gender</th>\n",
       "      <th>bmi</th>\n",
       "      <th>breast_cancer_diagnosis_code</th>\n",
       "      <th>metastatic_cancer_diagnosis_code</th>\n",
       "      <th>Region</th>\n",
       "      <th>...</th>\n",
       "      <th>disabled</th>\n",
       "      <th>poverty</th>\n",
       "      <th>limited_english</th>\n",
       "      <th>commute_time</th>\n",
       "      <th>health_uninsured</th>\n",
       "      <th>veteran</th>\n",
       "      <th>Ozone</th>\n",
       "      <th>PM25</th>\n",
       "      <th>N02</th>\n",
       "      <th>DiagPeriodL90D</th>\n",
       "    </tr>\n",
       "  </thead>\n",
       "  <tbody>\n",
       "    <tr>\n",
       "      <th>0</th>\n",
       "      <td>NaN</td>\n",
       "      <td>MEDICAID</td>\n",
       "      <td>CA</td>\n",
       "      <td>924</td>\n",
       "      <td>84</td>\n",
       "      <td>F</td>\n",
       "      <td>NaN</td>\n",
       "      <td>C50919</td>\n",
       "      <td>C7989</td>\n",
       "      <td>West</td>\n",
       "      <td>...</td>\n",
       "      <td>12.871429</td>\n",
       "      <td>22.542857</td>\n",
       "      <td>10.100000</td>\n",
       "      <td>27.814286</td>\n",
       "      <td>11.200000</td>\n",
       "      <td>3.500000</td>\n",
       "      <td>52.237210</td>\n",
       "      <td>8.650555</td>\n",
       "      <td>18.606528</td>\n",
       "      <td>1</td>\n",
       "    </tr>\n",
       "    <tr>\n",
       "      <th>1</th>\n",
       "      <td>White</td>\n",
       "      <td>COMMERCIAL</td>\n",
       "      <td>CA</td>\n",
       "      <td>928</td>\n",
       "      <td>62</td>\n",
       "      <td>F</td>\n",
       "      <td>28.49</td>\n",
       "      <td>C50411</td>\n",
       "      <td>C773</td>\n",
       "      <td>West</td>\n",
       "      <td>...</td>\n",
       "      <td>8.957576</td>\n",
       "      <td>10.109091</td>\n",
       "      <td>8.057576</td>\n",
       "      <td>30.606061</td>\n",
       "      <td>7.018182</td>\n",
       "      <td>4.103030</td>\n",
       "      <td>42.301121</td>\n",
       "      <td>8.487175</td>\n",
       "      <td>20.113179</td>\n",
       "      <td>1</td>\n",
       "    </tr>\n",
       "    <tr>\n",
       "      <th>2</th>\n",
       "      <td>White</td>\n",
       "      <td>COMMERCIAL</td>\n",
       "      <td>TX</td>\n",
       "      <td>760</td>\n",
       "      <td>43</td>\n",
       "      <td>F</td>\n",
       "      <td>38.09</td>\n",
       "      <td>C50112</td>\n",
       "      <td>C773</td>\n",
       "      <td>South</td>\n",
       "      <td>...</td>\n",
       "      <td>11.253333</td>\n",
       "      <td>9.663333</td>\n",
       "      <td>3.356667</td>\n",
       "      <td>31.394915</td>\n",
       "      <td>15.066667</td>\n",
       "      <td>7.446667</td>\n",
       "      <td>40.108207</td>\n",
       "      <td>7.642753</td>\n",
       "      <td>14.839351</td>\n",
       "      <td>1</td>\n",
       "    </tr>\n",
       "    <tr>\n",
       "      <th>3</th>\n",
       "      <td>White</td>\n",
       "      <td>COMMERCIAL</td>\n",
       "      <td>CA</td>\n",
       "      <td>926</td>\n",
       "      <td>45</td>\n",
       "      <td>F</td>\n",
       "      <td>NaN</td>\n",
       "      <td>C50212</td>\n",
       "      <td>C773</td>\n",
       "      <td>West</td>\n",
       "      <td>...</td>\n",
       "      <td>8.845238</td>\n",
       "      <td>8.688095</td>\n",
       "      <td>5.280952</td>\n",
       "      <td>27.561905</td>\n",
       "      <td>4.404762</td>\n",
       "      <td>4.809524</td>\n",
       "      <td>42.070075</td>\n",
       "      <td>7.229393</td>\n",
       "      <td>15.894123</td>\n",
       "      <td>0</td>\n",
       "    </tr>\n",
       "    <tr>\n",
       "      <th>4</th>\n",
       "      <td>NaN</td>\n",
       "      <td>COMMERCIAL</td>\n",
       "      <td>ID</td>\n",
       "      <td>836</td>\n",
       "      <td>55</td>\n",
       "      <td>F</td>\n",
       "      <td>NaN</td>\n",
       "      <td>1749</td>\n",
       "      <td>C773</td>\n",
       "      <td>West</td>\n",
       "      <td>...</td>\n",
       "      <td>15.276000</td>\n",
       "      <td>11.224000</td>\n",
       "      <td>1.946000</td>\n",
       "      <td>26.170213</td>\n",
       "      <td>12.088000</td>\n",
       "      <td>13.106000</td>\n",
       "      <td>41.356058</td>\n",
       "      <td>4.110749</td>\n",
       "      <td>11.722197</td>\n",
       "      <td>0</td>\n",
       "    </tr>\n",
       "  </tbody>\n",
       "</table>\n",
       "<p>5 rows × 79 columns</p>\n",
       "</div>"
      ],
      "text/plain": [
       "  patient_race  payer_type patient_state  patient_zip3  patient_age  \\\n",
       "0          NaN    MEDICAID            CA           924           84   \n",
       "1        White  COMMERCIAL            CA           928           62   \n",
       "2        White  COMMERCIAL            TX           760           43   \n",
       "3        White  COMMERCIAL            CA           926           45   \n",
       "4          NaN  COMMERCIAL            ID           836           55   \n",
       "\n",
       "  patient_gender    bmi breast_cancer_diagnosis_code  \\\n",
       "0              F    NaN                       C50919   \n",
       "1              F  28.49                       C50411   \n",
       "2              F  38.09                       C50112   \n",
       "3              F    NaN                       C50212   \n",
       "4              F    NaN                         1749   \n",
       "\n",
       "  metastatic_cancer_diagnosis_code Region  ...   disabled    poverty  \\\n",
       "0                            C7989   West  ...  12.871429  22.542857   \n",
       "1                             C773   West  ...   8.957576  10.109091   \n",
       "2                             C773  South  ...  11.253333   9.663333   \n",
       "3                             C773   West  ...   8.845238   8.688095   \n",
       "4                             C773   West  ...  15.276000  11.224000   \n",
       "\n",
       "   limited_english  commute_time  health_uninsured    veteran      Ozone  \\\n",
       "0        10.100000     27.814286         11.200000   3.500000  52.237210   \n",
       "1         8.057576     30.606061          7.018182   4.103030  42.301121   \n",
       "2         3.356667     31.394915         15.066667   7.446667  40.108207   \n",
       "3         5.280952     27.561905          4.404762   4.809524  42.070075   \n",
       "4         1.946000     26.170213         12.088000  13.106000  41.356058   \n",
       "\n",
       "       PM25        N02  DiagPeriodL90D  \n",
       "0  8.650555  18.606528               1  \n",
       "1  8.487175  20.113179               1  \n",
       "2  7.642753  14.839351               1  \n",
       "3  7.229393  15.894123               0  \n",
       "4  4.110749  11.722197               0  \n",
       "\n",
       "[5 rows x 79 columns]"
      ]
     },
     "execution_count": 13,
     "metadata": {},
     "output_type": "execute_result"
    }
   ],
   "source": [
    "## Cargar datos\n",
    "df_training = pd.read_csv('widsdatathon2024-challenge1/training.csv')\n",
    "df_test = pd.read_csv('widsdatathon2024-challenge1/test.csv')\n",
    "\n",
    "## Quitar columnas irrelevantes\n",
    "df_training.drop(columns=['patient_id','breast_cancer_diagnosis_desc','metastatic_first_novel_treatment', 'metastatic_first_novel_treatment_type'], inplace=True)\n",
    "df_test.drop(columns=['patient_id','breast_cancer_diagnosis_desc','metastatic_first_novel_treatment', 'metastatic_first_novel_treatment_type'], inplace=True)\n",
    "\n",
    "df_training.head()"
   ]
  },
  {
   "cell_type": "code",
   "execution_count": 14,
   "id": "06dd557e",
   "metadata": {},
   "outputs": [
    {
     "name": "stdout",
     "output_type": "stream",
     "text": [
      "<class 'pandas.core.frame.DataFrame'>\n",
      "RangeIndex: 12906 entries, 0 to 12905\n",
      "Data columns (total 79 columns):\n",
      " #   Column                            Non-Null Count  Dtype  \n",
      "---  ------                            --------------  -----  \n",
      " 0   patient_race                      6521 non-null   object \n",
      " 1   payer_type                        11103 non-null  object \n",
      " 2   patient_state                     12855 non-null  object \n",
      " 3   patient_zip3                      12906 non-null  int64  \n",
      " 4   patient_age                       12906 non-null  int64  \n",
      " 5   patient_gender                    12906 non-null  object \n",
      " 6   bmi                               3941 non-null   float64\n",
      " 7   breast_cancer_diagnosis_code      12906 non-null  object \n",
      " 8   metastatic_cancer_diagnosis_code  12906 non-null  object \n",
      " 9   Region                            12854 non-null  object \n",
      " 10  Division                          12854 non-null  object \n",
      " 11  population                        12905 non-null  float64\n",
      " 12  density                           12905 non-null  float64\n",
      " 13  age_median                        12905 non-null  float64\n",
      " 14  age_under_10                      12905 non-null  float64\n",
      " 15  age_10_to_19                      12905 non-null  float64\n",
      " 16  age_20s                           12905 non-null  float64\n",
      " 17  age_30s                           12905 non-null  float64\n",
      " 18  age_40s                           12905 non-null  float64\n",
      " 19  age_50s                           12905 non-null  float64\n",
      " 20  age_60s                           12905 non-null  float64\n",
      " 21  age_70s                           12905 non-null  float64\n",
      " 22  age_over_80                       12905 non-null  float64\n",
      " 23  male                              12905 non-null  float64\n",
      " 24  female                            12905 non-null  float64\n",
      " 25  married                           12905 non-null  float64\n",
      " 26  divorced                          12905 non-null  float64\n",
      " 27  never_married                     12905 non-null  float64\n",
      " 28  widowed                           12905 non-null  float64\n",
      " 29  family_size                       12902 non-null  float64\n",
      " 30  family_dual_income                12902 non-null  float64\n",
      " 31  income_household_median           12902 non-null  float64\n",
      " 32  income_household_under_5          12902 non-null  float64\n",
      " 33  income_household_5_to_10          12902 non-null  float64\n",
      " 34  income_household_10_to_15         12902 non-null  float64\n",
      " 35  income_household_15_to_20         12902 non-null  float64\n",
      " 36  income_household_20_to_25         12902 non-null  float64\n",
      " 37  income_household_25_to_35         12902 non-null  float64\n",
      " 38  income_household_35_to_50         12902 non-null  float64\n",
      " 39  income_household_50_to_75         12902 non-null  float64\n",
      " 40  income_household_75_to_100        12902 non-null  float64\n",
      " 41  income_household_100_to_150       12902 non-null  float64\n",
      " 42  income_household_150_over         12902 non-null  float64\n",
      " 43  income_household_six_figure       12902 non-null  float64\n",
      " 44  income_individual_median          12905 non-null  float64\n",
      " 45  home_ownership                    12902 non-null  float64\n",
      " 46  housing_units                     12905 non-null  float64\n",
      " 47  home_value                        12902 non-null  float64\n",
      " 48  rent_median                       12902 non-null  float64\n",
      " 49  rent_burden                       12902 non-null  float64\n",
      " 50  education_less_highschool         12905 non-null  float64\n",
      " 51  education_highschool              12905 non-null  float64\n",
      " 52  education_some_college            12905 non-null  float64\n",
      " 53  education_bachelors               12905 non-null  float64\n",
      " 54  education_graduate                12905 non-null  float64\n",
      " 55  education_college_or_above        12905 non-null  float64\n",
      " 56  education_stem_degree             12905 non-null  float64\n",
      " 57  labor_force_participation         12905 non-null  float64\n",
      " 58  unemployment_rate                 12905 non-null  float64\n",
      " 59  self_employed                     12902 non-null  float64\n",
      " 60  farmer                            12902 non-null  float64\n",
      " 61  race_white                        12905 non-null  float64\n",
      " 62  race_black                        12905 non-null  float64\n",
      " 63  race_asian                        12905 non-null  float64\n",
      " 64  race_native                       12905 non-null  float64\n",
      " 65  race_pacific                      12905 non-null  float64\n",
      " 66  race_other                        12905 non-null  float64\n",
      " 67  race_multiple                     12905 non-null  float64\n",
      " 68  hispanic                          12905 non-null  float64\n",
      " 69  disabled                          12905 non-null  float64\n",
      " 70  poverty                           12902 non-null  float64\n",
      " 71  limited_english                   12902 non-null  float64\n",
      " 72  commute_time                      12905 non-null  float64\n",
      " 73  health_uninsured                  12905 non-null  float64\n",
      " 74  veteran                           12905 non-null  float64\n",
      " 75  Ozone                             12877 non-null  float64\n",
      " 76  PM25                              12877 non-null  float64\n",
      " 77  N02                               12877 non-null  float64\n",
      " 78  DiagPeriodL90D                    12906 non-null  int64  \n",
      "dtypes: float64(68), int64(3), object(8)\n",
      "memory usage: 7.8+ MB\n"
     ]
    }
   ],
   "source": [
    "# informacion del dataset\n",
    "df_training.info()"
   ]
  },
  {
   "cell_type": "code",
   "execution_count": 15,
   "id": "ff32f87c",
   "metadata": {},
   "outputs": [
    {
     "data": {
      "application/vnd.microsoft.datawrangler.viewer.v0+json": {
       "columns": [
        {
         "name": "index",
         "rawType": "object",
         "type": "string"
        },
        {
         "name": "Porcentaje de valores nulos",
         "rawType": "float64",
         "type": "float"
        }
       ],
       "ref": "ccc39192-1f01-4958-a5f7-689c39ebc7c3",
       "rows": [
        [
         "bmi",
         "69.46"
        ],
        [
         "patient_race",
         "49.47"
        ],
        [
         "payer_type",
         "13.97"
        ],
        [
         "Division",
         "0.4"
        ],
        [
         "Region",
         "0.4"
        ],
        [
         "patient_state",
         "0.4"
        ],
        [
         "Ozone",
         "0.22"
        ],
        [
         "PM25",
         "0.22"
        ],
        [
         "N02",
         "0.22"
        ],
        [
         "income_household_under_5",
         "0.03"
        ],
        [
         "income_household_5_to_10",
         "0.03"
        ],
        [
         "income_household_100_to_150",
         "0.03"
        ],
        [
         "income_household_10_to_15",
         "0.03"
        ],
        [
         "income_household_15_to_20",
         "0.03"
        ],
        [
         "income_household_20_to_25",
         "0.03"
        ],
        [
         "income_household_25_to_35",
         "0.03"
        ],
        [
         "income_household_35_to_50",
         "0.03"
        ],
        [
         "income_household_75_to_100",
         "0.03"
        ],
        [
         "home_value",
         "0.03"
        ],
        [
         "income_household_150_over",
         "0.03"
        ]
       ],
       "shape": {
        "columns": 1,
        "rows": 20
       }
      },
      "text/html": [
       "<div>\n",
       "<style scoped>\n",
       "    .dataframe tbody tr th:only-of-type {\n",
       "        vertical-align: middle;\n",
       "    }\n",
       "\n",
       "    .dataframe tbody tr th {\n",
       "        vertical-align: top;\n",
       "    }\n",
       "\n",
       "    .dataframe thead th {\n",
       "        text-align: right;\n",
       "    }\n",
       "</style>\n",
       "<table border=\"1\" class=\"dataframe\">\n",
       "  <thead>\n",
       "    <tr style=\"text-align: right;\">\n",
       "      <th></th>\n",
       "      <th>Porcentaje de valores nulos</th>\n",
       "    </tr>\n",
       "  </thead>\n",
       "  <tbody>\n",
       "    <tr>\n",
       "      <th>bmi</th>\n",
       "      <td>69.46</td>\n",
       "    </tr>\n",
       "    <tr>\n",
       "      <th>patient_race</th>\n",
       "      <td>49.47</td>\n",
       "    </tr>\n",
       "    <tr>\n",
       "      <th>payer_type</th>\n",
       "      <td>13.97</td>\n",
       "    </tr>\n",
       "    <tr>\n",
       "      <th>Division</th>\n",
       "      <td>0.40</td>\n",
       "    </tr>\n",
       "    <tr>\n",
       "      <th>Region</th>\n",
       "      <td>0.40</td>\n",
       "    </tr>\n",
       "    <tr>\n",
       "      <th>patient_state</th>\n",
       "      <td>0.40</td>\n",
       "    </tr>\n",
       "    <tr>\n",
       "      <th>Ozone</th>\n",
       "      <td>0.22</td>\n",
       "    </tr>\n",
       "    <tr>\n",
       "      <th>PM25</th>\n",
       "      <td>0.22</td>\n",
       "    </tr>\n",
       "    <tr>\n",
       "      <th>N02</th>\n",
       "      <td>0.22</td>\n",
       "    </tr>\n",
       "    <tr>\n",
       "      <th>income_household_under_5</th>\n",
       "      <td>0.03</td>\n",
       "    </tr>\n",
       "    <tr>\n",
       "      <th>income_household_5_to_10</th>\n",
       "      <td>0.03</td>\n",
       "    </tr>\n",
       "    <tr>\n",
       "      <th>income_household_100_to_150</th>\n",
       "      <td>0.03</td>\n",
       "    </tr>\n",
       "    <tr>\n",
       "      <th>income_household_10_to_15</th>\n",
       "      <td>0.03</td>\n",
       "    </tr>\n",
       "    <tr>\n",
       "      <th>income_household_15_to_20</th>\n",
       "      <td>0.03</td>\n",
       "    </tr>\n",
       "    <tr>\n",
       "      <th>income_household_20_to_25</th>\n",
       "      <td>0.03</td>\n",
       "    </tr>\n",
       "    <tr>\n",
       "      <th>income_household_25_to_35</th>\n",
       "      <td>0.03</td>\n",
       "    </tr>\n",
       "    <tr>\n",
       "      <th>income_household_35_to_50</th>\n",
       "      <td>0.03</td>\n",
       "    </tr>\n",
       "    <tr>\n",
       "      <th>income_household_75_to_100</th>\n",
       "      <td>0.03</td>\n",
       "    </tr>\n",
       "    <tr>\n",
       "      <th>home_value</th>\n",
       "      <td>0.03</td>\n",
       "    </tr>\n",
       "    <tr>\n",
       "      <th>income_household_150_over</th>\n",
       "      <td>0.03</td>\n",
       "    </tr>\n",
       "  </tbody>\n",
       "</table>\n",
       "</div>"
      ],
      "text/plain": [
       "                             Porcentaje de valores nulos\n",
       "bmi                                                69.46\n",
       "patient_race                                       49.47\n",
       "payer_type                                         13.97\n",
       "Division                                            0.40\n",
       "Region                                              0.40\n",
       "patient_state                                       0.40\n",
       "Ozone                                               0.22\n",
       "PM25                                                0.22\n",
       "N02                                                 0.22\n",
       "income_household_under_5                            0.03\n",
       "income_household_5_to_10                            0.03\n",
       "income_household_100_to_150                         0.03\n",
       "income_household_10_to_15                           0.03\n",
       "income_household_15_to_20                           0.03\n",
       "income_household_20_to_25                           0.03\n",
       "income_household_25_to_35                           0.03\n",
       "income_household_35_to_50                           0.03\n",
       "income_household_75_to_100                          0.03\n",
       "home_value                                          0.03\n",
       "income_household_150_over                           0.03"
      ]
     },
     "metadata": {},
     "output_type": "display_data"
    }
   ],
   "source": [
    "# porcentaje de valores nulos por columna\n",
    "null_percentage = (round(df_training.isnull().mean()*100,2)).to_frame(name='Porcentaje de valores nulos').sort_values(by='Porcentaje de valores nulos', ascending=False)\n",
    "display(null_percentage.head(20))"
   ]
  },
  {
   "cell_type": "markdown",
   "id": "d5697ee6",
   "metadata": {},
   "source": [
    "## Variable: BMI"
   ]
  },
  {
   "cell_type": "code",
   "execution_count": 16,
   "id": "3a851d2e",
   "metadata": {},
   "outputs": [
    {
     "data": {
      "image/png": "[encoded data removed]",
      "text/plain": [
       "<Figure size 640x480 with 1 Axes>"
      ]
     },
     "metadata": {},
     "output_type": "display_data"
    }
   ],
   "source": [
    "plt.hist(df_training['bmi'], bins=30, color='skyblue', edgecolor='black')\n",
    "plt.show()"
   ]
  },
  {
   "cell_type": "code",
   "execution_count": 17,
   "id": "8c81453d",
   "metadata": {},
   "outputs": [
    {
     "data": {
      "text/plain": [
       "<Axes: xlabel='bmi', ylabel='Density'>"
      ]
     },
     "execution_count": 17,
     "metadata": {},
     "output_type": "execute_result"
    },
    {
     "data": {
      "image/png": "[encoded data removed]",
      "text/plain": [
       "<Figure size 640x480 with 1 Axes>"
      ]
     },
     "metadata": {},
     "output_type": "display_data"
    }
   ],
   "source": [
    "sns.histplot(data=df_training, x='bmi', hue='DiagPeriodL90D', bins=30, kde=True, element='step', stat='density')"
   ]
  },
  {
   "cell_type": "code",
   "execution_count": 18,
   "id": "6d37865d",
   "metadata": {},
   "outputs": [],
   "source": [
    "## Clasificacion de bmi\n",
    "df_training['bmi_category'] = pd.cut(df_training['bmi'], bins=[0, 18.5, 24.9, 29.9, 34.9,39.9, np.inf], labels=['Underweight', 'Normal', 'Overweight', 'Obesity I', 'Obesity II','Extreme']).astype(object)\n",
    "df_test['bmi_category'] = pd.cut(df_test['bmi'], bins=[0, 18.5, 24.9, 29.9, 34.9,39.9, np.inf], labels=['Underweight', 'Normal', 'Overweight', 'Obesity I', 'Obesity II','Extreme']).astype(object)\n",
    "df_training['bmi_category'] = df_training['bmi_category'].fillna('Unknown')\n",
    "df_test['bmi_category'] = df_test['bmi_category'].fillna('Unknown')"
   ]
  },
  {
   "cell_type": "code",
   "execution_count": 19,
   "id": "f323a581",
   "metadata": {},
   "outputs": [],
   "source": [
    "df_training.drop(columns=['bmi'], inplace=True)\n",
    "df_test.drop(columns=['bmi'], inplace=True)"
   ]
  },
  {
   "cell_type": "code",
   "execution_count": 20,
   "id": "cd169415",
   "metadata": {},
   "outputs": [
    {
     "data": {
      "application/vnd.microsoft.datawrangler.viewer.v0+json": {
       "columns": [
        {
         "name": "bmi_category",
         "rawType": "object",
         "type": "string"
        },
        {
         "name": "0",
         "rawType": "float64",
         "type": "float"
        },
        {
         "name": "1",
         "rawType": "float64",
         "type": "float"
        }
       ],
       "ref": "b98388d5-dae0-4bd1-bf60-23c9917b2301",
       "rows": [
        [
         "Extreme",
         "0.41025641025641024",
         "0.5897435897435898"
        ],
        [
         "Normal",
         "0.3996003996003996",
         "0.6003996003996004"
        ],
        [
         "Obesity I",
         "0.430752453653217",
         "0.569247546346783"
        ],
        [
         "Obesity II",
         "0.4063157894736842",
         "0.5936842105263158"
        ],
        [
         "Overweight",
         "0.4124718256949662",
         "0.5875281743050338"
        ],
        [
         "Underweight",
         "0.4090909090909091",
         "0.5909090909090909"
        ],
        [
         "Unknown",
         "0.3591745677635248",
         "0.6408254322364751"
        ],
        [
         "All",
         "0.3754842708817604",
         "0.6245157291182396"
        ]
       ],
       "shape": {
        "columns": 2,
        "rows": 8
       }
      },
      "text/html": [
       "<div>\n",
       "<style scoped>\n",
       "    .dataframe tbody tr th:only-of-type {\n",
       "        vertical-align: middle;\n",
       "    }\n",
       "\n",
       "    .dataframe tbody tr th {\n",
       "        vertical-align: top;\n",
       "    }\n",
       "\n",
       "    .dataframe thead th {\n",
       "        text-align: right;\n",
       "    }\n",
       "</style>\n",
       "<table border=\"1\" class=\"dataframe\">\n",
       "  <thead>\n",
       "    <tr style=\"text-align: right;\">\n",
       "      <th>DiagPeriodL90D</th>\n",
       "      <th>0</th>\n",
       "      <th>1</th>\n",
       "    </tr>\n",
       "    <tr>\n",
       "      <th>bmi_category</th>\n",
       "      <th></th>\n",
       "      <th></th>\n",
       "    </tr>\n",
       "  </thead>\n",
       "  <tbody>\n",
       "    <tr>\n",
       "      <th>Extreme</th>\n",
       "      <td>0.410256</td>\n",
       "      <td>0.589744</td>\n",
       "    </tr>\n",
       "    <tr>\n",
       "      <th>Normal</th>\n",
       "      <td>0.399600</td>\n",
       "      <td>0.600400</td>\n",
       "    </tr>\n",
       "    <tr>\n",
       "      <th>Obesity I</th>\n",
       "      <td>0.430752</td>\n",
       "      <td>0.569248</td>\n",
       "    </tr>\n",
       "    <tr>\n",
       "      <th>Obesity II</th>\n",
       "      <td>0.406316</td>\n",
       "      <td>0.593684</td>\n",
       "    </tr>\n",
       "    <tr>\n",
       "      <th>Overweight</th>\n",
       "      <td>0.412472</td>\n",
       "      <td>0.587528</td>\n",
       "    </tr>\n",
       "    <tr>\n",
       "      <th>Underweight</th>\n",
       "      <td>0.409091</td>\n",
       "      <td>0.590909</td>\n",
       "    </tr>\n",
       "    <tr>\n",
       "      <th>Unknown</th>\n",
       "      <td>0.359175</td>\n",
       "      <td>0.640825</td>\n",
       "    </tr>\n",
       "    <tr>\n",
       "      <th>All</th>\n",
       "      <td>0.375484</td>\n",
       "      <td>0.624516</td>\n",
       "    </tr>\n",
       "  </tbody>\n",
       "</table>\n",
       "</div>"
      ],
      "text/plain": [
       "DiagPeriodL90D         0         1\n",
       "bmi_category                      \n",
       "Extreme         0.410256  0.589744\n",
       "Normal          0.399600  0.600400\n",
       "Obesity I       0.430752  0.569248\n",
       "Obesity II      0.406316  0.593684\n",
       "Overweight      0.412472  0.587528\n",
       "Underweight     0.409091  0.590909\n",
       "Unknown         0.359175  0.640825\n",
       "All             0.375484  0.624516"
      ]
     },
     "execution_count": 20,
     "metadata": {},
     "output_type": "execute_result"
    }
   ],
   "source": [
    "pd.crosstab(df_training['bmi_category'], df_training['DiagPeriodL90D'], normalize='index', margins=True)"
   ]
  },
  {
   "cell_type": "code",
   "execution_count": 21,
   "id": "6766eb81",
   "metadata": {},
   "outputs": [
    {
     "data": {
      "application/vnd.microsoft.datawrangler.viewer.v0+json": {
       "columns": [
        {
         "name": "DiagPeriodL90D",
         "rawType": "int64",
         "type": "integer"
        },
        {
         "name": "proportion",
         "rawType": "float64",
         "type": "float"
        }
       ],
       "ref": "0d2c18fd-385a-4b0a-bc43-60aaa5757c1a",
       "rows": [
        [
         "1",
         "0.6245157291182396"
        ],
        [
         "0",
         "0.3754842708817604"
        ]
       ],
       "shape": {
        "columns": 1,
        "rows": 2
       }
      },
      "text/plain": [
       "DiagPeriodL90D\n",
       "1    0.624516\n",
       "0    0.375484\n",
       "Name: proportion, dtype: float64"
      ]
     },
     "execution_count": 21,
     "metadata": {},
     "output_type": "execute_result"
    }
   ],
   "source": [
    "df_training['DiagPeriodL90D'].value_counts(normalize=True)"
   ]
  },
  {
   "cell_type": "code",
   "execution_count": 22,
   "id": "8a0b5995",
   "metadata": {},
   "outputs": [
    {
     "data": {
      "application/vnd.microsoft.datawrangler.viewer.v0+json": {
       "columns": [
        {
         "name": "index",
         "rawType": "object",
         "type": "string"
        },
        {
         "name": "Porcentaje de valores nulos",
         "rawType": "float64",
         "type": "float"
        }
       ],
       "ref": "781a9eaa-b5d7-4a51-9f7a-d879c5ff74e4",
       "rows": [
        [
         "patient_race",
         "49.47"
        ],
        [
         "payer_type",
         "13.97"
        ],
        [
         "patient_state",
         "0.4"
        ],
        [
         "Division",
         "0.4"
        ],
        [
         "Region",
         "0.4"
        ],
        [
         "N02",
         "0.22"
        ],
        [
         "PM25",
         "0.22"
        ],
        [
         "Ozone",
         "0.22"
        ],
        [
         "income_household_under_5",
         "0.03"
        ],
        [
         "income_household_5_to_10",
         "0.03"
        ],
        [
         "income_household_100_to_150",
         "0.03"
        ],
        [
         "income_household_10_to_15",
         "0.03"
        ],
        [
         "income_household_15_to_20",
         "0.03"
        ],
        [
         "income_household_20_to_25",
         "0.03"
        ],
        [
         "income_household_25_to_35",
         "0.03"
        ],
        [
         "income_household_35_to_50",
         "0.03"
        ],
        [
         "income_household_50_to_75",
         "0.03"
        ],
        [
         "home_value",
         "0.03"
        ],
        [
         "income_household_150_over",
         "0.03"
        ],
        [
         "income_household_six_figure",
         "0.03"
        ]
       ],
       "shape": {
        "columns": 1,
        "rows": 20
       }
      },
      "text/html": [
       "<div>\n",
       "<style scoped>\n",
       "    .dataframe tbody tr th:only-of-type {\n",
       "        vertical-align: middle;\n",
       "    }\n",
       "\n",
       "    .dataframe tbody tr th {\n",
       "        vertical-align: top;\n",
       "    }\n",
       "\n",
       "    .dataframe thead th {\n",
       "        text-align: right;\n",
       "    }\n",
       "</style>\n",
       "<table border=\"1\" class=\"dataframe\">\n",
       "  <thead>\n",
       "    <tr style=\"text-align: right;\">\n",
       "      <th></th>\n",
       "      <th>Porcentaje de valores nulos</th>\n",
       "    </tr>\n",
       "  </thead>\n",
       "  <tbody>\n",
       "    <tr>\n",
       "      <th>patient_race</th>\n",
       "      <td>49.47</td>\n",
       "    </tr>\n",
       "    <tr>\n",
       "      <th>payer_type</th>\n",
       "      <td>13.97</td>\n",
       "    </tr>\n",
       "    <tr>\n",
       "      <th>patient_state</th>\n",
       "      <td>0.40</td>\n",
       "    </tr>\n",
       "    <tr>\n",
       "      <th>Division</th>\n",
       "      <td>0.40</td>\n",
       "    </tr>\n",
       "    <tr>\n",
       "      <th>Region</th>\n",
       "      <td>0.40</td>\n",
       "    </tr>\n",
       "    <tr>\n",
       "      <th>N02</th>\n",
       "      <td>0.22</td>\n",
       "    </tr>\n",
       "    <tr>\n",
       "      <th>PM25</th>\n",
       "      <td>0.22</td>\n",
       "    </tr>\n",
       "    <tr>\n",
       "      <th>Ozone</th>\n",
       "      <td>0.22</td>\n",
       "    </tr>\n",
       "    <tr>\n",
       "      <th>income_household_under_5</th>\n",
       "      <td>0.03</td>\n",
       "    </tr>\n",
       "    <tr>\n",
       "      <th>income_household_5_to_10</th>\n",
       "      <td>0.03</td>\n",
       "    </tr>\n",
       "    <tr>\n",
       "      <th>income_household_100_to_150</th>\n",
       "      <td>0.03</td>\n",
       "    </tr>\n",
       "    <tr>\n",
       "      <th>income_household_10_to_15</th>\n",
       "      <td>0.03</td>\n",
       "    </tr>\n",
       "    <tr>\n",
       "      <th>income_household_15_to_20</th>\n",
       "      <td>0.03</td>\n",
       "    </tr>\n",
       "    <tr>\n",
       "      <th>income_household_20_to_25</th>\n",
       "      <td>0.03</td>\n",
       "    </tr>\n",
       "    <tr>\n",
       "      <th>income_household_25_to_35</th>\n",
       "      <td>0.03</td>\n",
       "    </tr>\n",
       "    <tr>\n",
       "      <th>income_household_35_to_50</th>\n",
       "      <td>0.03</td>\n",
       "    </tr>\n",
       "    <tr>\n",
       "      <th>income_household_50_to_75</th>\n",
       "      <td>0.03</td>\n",
       "    </tr>\n",
       "    <tr>\n",
       "      <th>home_value</th>\n",
       "      <td>0.03</td>\n",
       "    </tr>\n",
       "    <tr>\n",
       "      <th>income_household_150_over</th>\n",
       "      <td>0.03</td>\n",
       "    </tr>\n",
       "    <tr>\n",
       "      <th>income_household_six_figure</th>\n",
       "      <td>0.03</td>\n",
       "    </tr>\n",
       "  </tbody>\n",
       "</table>\n",
       "</div>"
      ],
      "text/plain": [
       "                             Porcentaje de valores nulos\n",
       "patient_race                                       49.47\n",
       "payer_type                                         13.97\n",
       "patient_state                                       0.40\n",
       "Division                                            0.40\n",
       "Region                                              0.40\n",
       "N02                                                 0.22\n",
       "PM25                                                0.22\n",
       "Ozone                                               0.22\n",
       "income_household_under_5                            0.03\n",
       "income_household_5_to_10                            0.03\n",
       "income_household_100_to_150                         0.03\n",
       "income_household_10_to_15                           0.03\n",
       "income_household_15_to_20                           0.03\n",
       "income_household_20_to_25                           0.03\n",
       "income_household_25_to_35                           0.03\n",
       "income_household_35_to_50                           0.03\n",
       "income_household_50_to_75                           0.03\n",
       "home_value                                          0.03\n",
       "income_household_150_over                           0.03\n",
       "income_household_six_figure                         0.03"
      ]
     },
     "metadata": {},
     "output_type": "display_data"
    }
   ],
   "source": [
    "null_percentage = (round(df_training.isnull().mean()*100,2)).to_frame(name='Porcentaje de valores nulos').sort_values(by='Porcentaje de valores nulos', ascending=False)\n",
    "display(null_percentage.head(20))"
   ]
  },
  {
   "cell_type": "code",
   "execution_count": 23,
   "id": "3518795b",
   "metadata": {},
   "outputs": [],
   "source": [
    "df_training['patient_race'] = df_training['patient_race'].fillna('Unknown')\n",
    "df_test['patient_race'] = df_test['patient_race'].fillna('Unknown')"
   ]
  },
  {
   "cell_type": "code",
   "execution_count": 24,
   "id": "e56e9eb8",
   "metadata": {},
   "outputs": [
    {
     "data": {
      "application/vnd.microsoft.datawrangler.viewer.v0+json": {
       "columns": [
        {
         "name": "patient_race",
         "rawType": "object",
         "type": "string"
        },
        {
         "name": "proportion",
         "rawType": "float64",
         "type": "float"
        }
       ],
       "ref": "1a08c3c2-f894-4dcf-b1a1-dc867925afa2",
       "rows": [
        [
         "Unknown",
         "0.4947311328064466"
        ],
        [
         "White",
         "0.2780102278010228"
        ],
        [
         "Black",
         "0.08182240818224082"
        ],
        [
         "Hispanic",
         "0.06423368975670231"
        ],
        [
         "Other",
         "0.05292112195877886"
        ],
        [
         "Asian",
         "0.028281419494808616"
        ]
       ],
       "shape": {
        "columns": 1,
        "rows": 6
       }
      },
      "text/plain": [
       "patient_race\n",
       "Unknown     0.494731\n",
       "White       0.278010\n",
       "Black       0.081822\n",
       "Hispanic    0.064234\n",
       "Other       0.052921\n",
       "Asian       0.028281\n",
       "Name: proportion, dtype: float64"
      ]
     },
     "execution_count": 24,
     "metadata": {},
     "output_type": "execute_result"
    }
   ],
   "source": [
    "df_training['patient_race'].value_counts(normalize=True)"
   ]
  },
  {
   "cell_type": "code",
   "execution_count": 25,
   "id": "64e00b45",
   "metadata": {},
   "outputs": [
    {
     "data": {
      "application/vnd.microsoft.datawrangler.viewer.v0+json": {
       "columns": [
        {
         "name": "index",
         "rawType": "object",
         "type": "string"
        },
        {
         "name": "Porcentaje de valores nulos",
         "rawType": "float64",
         "type": "float"
        }
       ],
       "ref": "940c5027-b542-4273-9d73-97dfb5a51981",
       "rows": [
        [
         "payer_type",
         "13.97"
        ],
        [
         "Region",
         "0.4"
        ],
        [
         "patient_state",
         "0.4"
        ],
        [
         "Division",
         "0.4"
        ],
        [
         "N02",
         "0.22"
        ],
        [
         "PM25",
         "0.22"
        ],
        [
         "Ozone",
         "0.22"
        ],
        [
         "income_household_15_to_20",
         "0.03"
        ],
        [
         "income_household_50_to_75",
         "0.03"
        ],
        [
         "income_household_35_to_50",
         "0.03"
        ],
        [
         "income_household_20_to_25",
         "0.03"
        ],
        [
         "income_household_75_to_100",
         "0.03"
        ],
        [
         "income_household_10_to_15",
         "0.03"
        ],
        [
         "income_household_150_over",
         "0.03"
        ],
        [
         "income_household_5_to_10",
         "0.03"
        ],
        [
         "income_household_under_5",
         "0.03"
        ],
        [
         "income_household_100_to_150",
         "0.03"
        ],
        [
         "home_value",
         "0.03"
        ],
        [
         "income_household_six_figure",
         "0.03"
        ],
        [
         "home_ownership",
         "0.03"
        ]
       ],
       "shape": {
        "columns": 1,
        "rows": 20
       }
      },
      "text/html": [
       "<div>\n",
       "<style scoped>\n",
       "    .dataframe tbody tr th:only-of-type {\n",
       "        vertical-align: middle;\n",
       "    }\n",
       "\n",
       "    .dataframe tbody tr th {\n",
       "        vertical-align: top;\n",
       "    }\n",
       "\n",
       "    .dataframe thead th {\n",
       "        text-align: right;\n",
       "    }\n",
       "</style>\n",
       "<table border=\"1\" class=\"dataframe\">\n",
       "  <thead>\n",
       "    <tr style=\"text-align: right;\">\n",
       "      <th></th>\n",
       "      <th>Porcentaje de valores nulos</th>\n",
       "    </tr>\n",
       "  </thead>\n",
       "  <tbody>\n",
       "    <tr>\n",
       "      <th>payer_type</th>\n",
       "      <td>13.97</td>\n",
       "    </tr>\n",
       "    <tr>\n",
       "      <th>Region</th>\n",
       "      <td>0.40</td>\n",
       "    </tr>\n",
       "    <tr>\n",
       "      <th>patient_state</th>\n",
       "      <td>0.40</td>\n",
       "    </tr>\n",
       "    <tr>\n",
       "      <th>Division</th>\n",
       "      <td>0.40</td>\n",
       "    </tr>\n",
       "    <tr>\n",
       "      <th>N02</th>\n",
       "      <td>0.22</td>\n",
       "    </tr>\n",
       "    <tr>\n",
       "      <th>PM25</th>\n",
       "      <td>0.22</td>\n",
       "    </tr>\n",
       "    <tr>\n",
       "      <th>Ozone</th>\n",
       "      <td>0.22</td>\n",
       "    </tr>\n",
       "    <tr>\n",
       "      <th>income_household_15_to_20</th>\n",
       "      <td>0.03</td>\n",
       "    </tr>\n",
       "    <tr>\n",
       "      <th>income_household_50_to_75</th>\n",
       "      <td>0.03</td>\n",
       "    </tr>\n",
       "    <tr>\n",
       "      <th>income_household_35_to_50</th>\n",
       "      <td>0.03</td>\n",
       "    </tr>\n",
       "    <tr>\n",
       "      <th>income_household_20_to_25</th>\n",
       "      <td>0.03</td>\n",
       "    </tr>\n",
       "    <tr>\n",
       "      <th>income_household_75_to_100</th>\n",
       "      <td>0.03</td>\n",
       "    </tr>\n",
       "    <tr>\n",
       "      <th>income_household_10_to_15</th>\n",
       "      <td>0.03</td>\n",
       "    </tr>\n",
       "    <tr>\n",
       "      <th>income_household_150_over</th>\n",
       "      <td>0.03</td>\n",
       "    </tr>\n",
       "    <tr>\n",
       "      <th>income_household_5_to_10</th>\n",
       "      <td>0.03</td>\n",
       "    </tr>\n",
       "    <tr>\n",
       "      <th>income_household_under_5</th>\n",
       "      <td>0.03</td>\n",
       "    </tr>\n",
       "    <tr>\n",
       "      <th>income_household_100_to_150</th>\n",
       "      <td>0.03</td>\n",
       "    </tr>\n",
       "    <tr>\n",
       "      <th>home_value</th>\n",
       "      <td>0.03</td>\n",
       "    </tr>\n",
       "    <tr>\n",
       "      <th>income_household_six_figure</th>\n",
       "      <td>0.03</td>\n",
       "    </tr>\n",
       "    <tr>\n",
       "      <th>home_ownership</th>\n",
       "      <td>0.03</td>\n",
       "    </tr>\n",
       "  </tbody>\n",
       "</table>\n",
       "</div>"
      ],
      "text/plain": [
       "                             Porcentaje de valores nulos\n",
       "payer_type                                         13.97\n",
       "Region                                              0.40\n",
       "patient_state                                       0.40\n",
       "Division                                            0.40\n",
       "N02                                                 0.22\n",
       "PM25                                                0.22\n",
       "Ozone                                               0.22\n",
       "income_household_15_to_20                           0.03\n",
       "income_household_50_to_75                           0.03\n",
       "income_household_35_to_50                           0.03\n",
       "income_household_20_to_25                           0.03\n",
       "income_household_75_to_100                          0.03\n",
       "income_household_10_to_15                           0.03\n",
       "income_household_150_over                           0.03\n",
       "income_household_5_to_10                            0.03\n",
       "income_household_under_5                            0.03\n",
       "income_household_100_to_150                         0.03\n",
       "home_value                                          0.03\n",
       "income_household_six_figure                         0.03\n",
       "home_ownership                                      0.03"
      ]
     },
     "metadata": {},
     "output_type": "display_data"
    }
   ],
   "source": [
    "null_percentage = (round(df_training.isnull().mean()*100,2)).to_frame(name='Porcentaje de valores nulos').sort_values(by='Porcentaje de valores nulos', ascending=False)\n",
    "display(null_percentage.head(20))"
   ]
  },
  {
   "cell_type": "code",
   "execution_count": 26,
   "id": "8db1b7bc",
   "metadata": {},
   "outputs": [],
   "source": [
    "df_training['payer_type'] = df_training['payer_type'].fillna('No insurance')\n",
    "df_test['payer_type'] = df_test['payer_type'].fillna('No insurance')"
   ]
  },
  {
   "cell_type": "code",
   "execution_count": 27,
   "id": "f35df9f5",
   "metadata": {},
   "outputs": [
    {
     "data": {
      "application/vnd.microsoft.datawrangler.viewer.v0+json": {
       "columns": [
        {
         "name": "payer_type",
         "rawType": "object",
         "type": "string"
        },
        {
         "name": "proportion",
         "rawType": "float64",
         "type": "float"
        }
       ],
       "ref": "99ad5d48-6f5f-4106-8b5b-486cbdbeeeb5",
       "rows": [
        [
         "COMMERCIAL",
         "0.46737951340461803"
        ],
        [
         "MEDICAID",
         "0.19905470323880367"
        ],
        [
         "MEDICARE ADVANTAGE",
         "0.19386331938633194"
        ],
        [
         "No insurance",
         "0.1397024639702464"
        ]
       ],
       "shape": {
        "columns": 1,
        "rows": 4
       }
      },
      "text/plain": [
       "payer_type\n",
       "COMMERCIAL            0.467380\n",
       "MEDICAID              0.199055\n",
       "MEDICARE ADVANTAGE    0.193863\n",
       "No insurance          0.139702\n",
       "Name: proportion, dtype: float64"
      ]
     },
     "execution_count": 27,
     "metadata": {},
     "output_type": "execute_result"
    }
   ],
   "source": [
    "df_training['payer_type'].value_counts(normalize=True)"
   ]
  },
  {
   "cell_type": "code",
   "execution_count": 28,
   "id": "02e54a31",
   "metadata": {},
   "outputs": [
    {
     "data": {
      "application/vnd.microsoft.datawrangler.viewer.v0+json": {
       "columns": [
        {
         "name": "index",
         "rawType": "object",
         "type": "string"
        },
        {
         "name": "Porcentaje de valores nulos",
         "rawType": "float64",
         "type": "float"
        }
       ],
       "ref": "71167245-c610-4786-af69-11cc37a884ee",
       "rows": [
        [
         "patient_state",
         "0.4"
        ],
        [
         "Region",
         "0.4"
        ],
        [
         "Division",
         "0.4"
        ],
        [
         "N02",
         "0.22"
        ],
        [
         "PM25",
         "0.22"
        ],
        [
         "Ozone",
         "0.22"
        ],
        [
         "income_household_75_to_100",
         "0.03"
        ],
        [
         "income_household_100_to_150",
         "0.03"
        ],
        [
         "income_household_median",
         "0.03"
        ],
        [
         "income_household_under_5",
         "0.03"
        ],
        [
         "income_household_5_to_10",
         "0.03"
        ],
        [
         "income_household_10_to_15",
         "0.03"
        ],
        [
         "income_household_15_to_20",
         "0.03"
        ],
        [
         "income_household_25_to_35",
         "0.03"
        ],
        [
         "income_household_35_to_50",
         "0.03"
        ],
        [
         "income_household_50_to_75",
         "0.03"
        ],
        [
         "home_value",
         "0.03"
        ],
        [
         "income_household_150_over",
         "0.03"
        ],
        [
         "income_household_six_figure",
         "0.03"
        ],
        [
         "home_ownership",
         "0.03"
        ]
       ],
       "shape": {
        "columns": 1,
        "rows": 20
       }
      },
      "text/html": [
       "<div>\n",
       "<style scoped>\n",
       "    .dataframe tbody tr th:only-of-type {\n",
       "        vertical-align: middle;\n",
       "    }\n",
       "\n",
       "    .dataframe tbody tr th {\n",
       "        vertical-align: top;\n",
       "    }\n",
       "\n",
       "    .dataframe thead th {\n",
       "        text-align: right;\n",
       "    }\n",
       "</style>\n",
       "<table border=\"1\" class=\"dataframe\">\n",
       "  <thead>\n",
       "    <tr style=\"text-align: right;\">\n",
       "      <th></th>\n",
       "      <th>Porcentaje de valores nulos</th>\n",
       "    </tr>\n",
       "  </thead>\n",
       "  <tbody>\n",
       "    <tr>\n",
       "      <th>patient_state</th>\n",
       "      <td>0.40</td>\n",
       "    </tr>\n",
       "    <tr>\n",
       "      <th>Region</th>\n",
       "      <td>0.40</td>\n",
       "    </tr>\n",
       "    <tr>\n",
       "      <th>Division</th>\n",
       "      <td>0.40</td>\n",
       "    </tr>\n",
       "    <tr>\n",
       "      <th>N02</th>\n",
       "      <td>0.22</td>\n",
       "    </tr>\n",
       "    <tr>\n",
       "      <th>PM25</th>\n",
       "      <td>0.22</td>\n",
       "    </tr>\n",
       "    <tr>\n",
       "      <th>Ozone</th>\n",
       "      <td>0.22</td>\n",
       "    </tr>\n",
       "    <tr>\n",
       "      <th>income_household_75_to_100</th>\n",
       "      <td>0.03</td>\n",
       "    </tr>\n",
       "    <tr>\n",
       "      <th>income_household_100_to_150</th>\n",
       "      <td>0.03</td>\n",
       "    </tr>\n",
       "    <tr>\n",
       "      <th>income_household_median</th>\n",
       "      <td>0.03</td>\n",
       "    </tr>\n",
       "    <tr>\n",
       "      <th>income_household_under_5</th>\n",
       "      <td>0.03</td>\n",
       "    </tr>\n",
       "    <tr>\n",
       "      <th>income_household_5_to_10</th>\n",
       "      <td>0.03</td>\n",
       "    </tr>\n",
       "    <tr>\n",
       "      <th>income_household_10_to_15</th>\n",
       "      <td>0.03</td>\n",
       "    </tr>\n",
       "    <tr>\n",
       "      <th>income_household_15_to_20</th>\n",
       "      <td>0.03</td>\n",
       "    </tr>\n",
       "    <tr>\n",
       "      <th>income_household_25_to_35</th>\n",
       "      <td>0.03</td>\n",
       "    </tr>\n",
       "    <tr>\n",
       "      <th>income_household_35_to_50</th>\n",
       "      <td>0.03</td>\n",
       "    </tr>\n",
       "    <tr>\n",
       "      <th>income_household_50_to_75</th>\n",
       "      <td>0.03</td>\n",
       "    </tr>\n",
       "    <tr>\n",
       "      <th>home_value</th>\n",
       "      <td>0.03</td>\n",
       "    </tr>\n",
       "    <tr>\n",
       "      <th>income_household_150_over</th>\n",
       "      <td>0.03</td>\n",
       "    </tr>\n",
       "    <tr>\n",
       "      <th>income_household_six_figure</th>\n",
       "      <td>0.03</td>\n",
       "    </tr>\n",
       "    <tr>\n",
       "      <th>home_ownership</th>\n",
       "      <td>0.03</td>\n",
       "    </tr>\n",
       "  </tbody>\n",
       "</table>\n",
       "</div>"
      ],
      "text/plain": [
       "                             Porcentaje de valores nulos\n",
       "patient_state                                       0.40\n",
       "Region                                              0.40\n",
       "Division                                            0.40\n",
       "N02                                                 0.22\n",
       "PM25                                                0.22\n",
       "Ozone                                               0.22\n",
       "income_household_75_to_100                          0.03\n",
       "income_household_100_to_150                         0.03\n",
       "income_household_median                             0.03\n",
       "income_household_under_5                            0.03\n",
       "income_household_5_to_10                            0.03\n",
       "income_household_10_to_15                           0.03\n",
       "income_household_15_to_20                           0.03\n",
       "income_household_25_to_35                           0.03\n",
       "income_household_35_to_50                           0.03\n",
       "income_household_50_to_75                           0.03\n",
       "home_value                                          0.03\n",
       "income_household_150_over                           0.03\n",
       "income_household_six_figure                         0.03\n",
       "home_ownership                                      0.03"
      ]
     },
     "metadata": {},
     "output_type": "display_data"
    }
   ],
   "source": [
    "null_percentage = (round(df_training.isnull().mean()*100,2)).to_frame(name='Porcentaje de valores nulos').sort_values(by='Porcentaje de valores nulos', ascending=False)\n",
    "display(null_percentage.head(20))"
   ]
  },
  {
   "cell_type": "code",
   "execution_count": 29,
   "id": "094c1ac6",
   "metadata": {},
   "outputs": [],
   "source": [
    "df_training = df_training.dropna()"
   ]
  },
  {
   "cell_type": "markdown",
   "id": "d60550ea",
   "metadata": {},
   "source": [
    "## Rellenar valores nulos en dataset test"
   ]
  },
  {
   "cell_type": "code",
   "execution_count": 30,
   "id": "bbb03ba0",
   "metadata": {},
   "outputs": [],
   "source": [
    "test_categories = df_test.select_dtypes(include=['object']).columns.tolist()\n",
    "test_numeric = df_test.select_dtypes(include=['number']).columns.tolist()"
   ]
  },
  {
   "cell_type": "code",
   "execution_count": 31,
   "id": "c7a08303",
   "metadata": {},
   "outputs": [],
   "source": [
    "num_imputer = SimpleImputer(strategy='mean')\n",
    "df_test[test_numeric] = num_imputer.fit_transform(df_test[test_numeric])\n",
    "cat_imputer = SimpleImputer(strategy='most_frequent')\n",
    "df_test[test_categories] = cat_imputer.fit_transform(df_test[test_categories])"
   ]
  },
  {
   "cell_type": "code",
   "execution_count": 32,
   "id": "1c582fc9",
   "metadata": {},
   "outputs": [
    {
     "data": {
      "text/plain": [
       "['patient_zip3',\n",
       " 'patient_age',\n",
       " 'population',\n",
       " 'density',\n",
       " 'age_median',\n",
       " 'age_under_10',\n",
       " 'age_10_to_19',\n",
       " 'age_20s',\n",
       " 'age_30s',\n",
       " 'age_40s',\n",
       " 'age_50s',\n",
       " 'age_60s',\n",
       " 'age_70s',\n",
       " 'age_over_80',\n",
       " 'male',\n",
       " 'female',\n",
       " 'married',\n",
       " 'divorced',\n",
       " 'never_married',\n",
       " 'widowed',\n",
       " 'family_size',\n",
       " 'family_dual_income',\n",
       " 'income_household_median',\n",
       " 'income_household_under_5',\n",
       " 'income_household_5_to_10',\n",
       " 'income_household_10_to_15',\n",
       " 'income_household_15_to_20',\n",
       " 'income_household_20_to_25',\n",
       " 'income_household_25_to_35',\n",
       " 'income_household_35_to_50',\n",
       " 'income_household_50_to_75',\n",
       " 'income_household_75_to_100',\n",
       " 'income_household_100_to_150',\n",
       " 'income_household_150_over',\n",
       " 'income_household_six_figure',\n",
       " 'income_individual_median',\n",
       " 'home_ownership',\n",
       " 'housing_units',\n",
       " 'home_value',\n",
       " 'rent_median',\n",
       " 'rent_burden',\n",
       " 'education_less_highschool',\n",
       " 'education_highschool',\n",
       " 'education_some_college',\n",
       " 'education_bachelors',\n",
       " 'education_graduate',\n",
       " 'education_college_or_above',\n",
       " 'education_stem_degree',\n",
       " 'labor_force_participation',\n",
       " 'unemployment_rate',\n",
       " 'self_employed',\n",
       " 'farmer',\n",
       " 'race_white',\n",
       " 'race_black',\n",
       " 'race_asian',\n",
       " 'race_native',\n",
       " 'race_pacific',\n",
       " 'race_other',\n",
       " 'race_multiple',\n",
       " 'hispanic',\n",
       " 'disabled',\n",
       " 'poverty',\n",
       " 'limited_english',\n",
       " 'commute_time',\n",
       " 'health_uninsured',\n",
       " 'veteran',\n",
       " 'Ozone',\n",
       " 'PM25',\n",
       " 'N02']"
      ]
     },
     "execution_count": 32,
     "metadata": {},
     "output_type": "execute_result"
    }
   ],
   "source": [
    "test_numeric"
   ]
  },
  {
   "cell_type": "code",
   "execution_count": 33,
   "id": "2afd235d",
   "metadata": {},
   "outputs": [
    {
     "data": {
      "text/plain": [
       "['patient_race',\n",
       " 'payer_type',\n",
       " 'patient_state',\n",
       " 'patient_gender',\n",
       " 'breast_cancer_diagnosis_code',\n",
       " 'metastatic_cancer_diagnosis_code',\n",
       " 'Region',\n",
       " 'Division',\n",
       " 'bmi_category']"
      ]
     },
     "execution_count": 33,
     "metadata": {},
     "output_type": "execute_result"
    }
   ],
   "source": [
    "test_categories"
   ]
  },
  {
   "cell_type": "code",
   "execution_count": 34,
   "id": "90a2d958",
   "metadata": {},
   "outputs": [
    {
     "data": {
      "application/vnd.microsoft.datawrangler.viewer.v0+json": {
       "columns": [
        {
         "name": "index",
         "rawType": "object",
         "type": "string"
        },
        {
         "name": "Porcentaje de valores nulos",
         "rawType": "float64",
         "type": "float"
        }
       ],
       "ref": "df2713d3-f95c-4599-8e7b-11a8aa3ea9f8",
       "rows": [
        [
         "patient_race",
         "0.0"
        ],
        [
         "education_less_highschool",
         "0.0"
        ],
        [
         "labor_force_participation",
         "0.0"
        ],
        [
         "education_stem_degree",
         "0.0"
        ],
        [
         "education_college_or_above",
         "0.0"
        ],
        [
         "education_graduate",
         "0.0"
        ],
        [
         "education_bachelors",
         "0.0"
        ],
        [
         "education_some_college",
         "0.0"
        ],
        [
         "education_highschool",
         "0.0"
        ],
        [
         "rent_burden",
         "0.0"
        ],
        [
         "self_employed",
         "0.0"
        ],
        [
         "rent_median",
         "0.0"
        ],
        [
         "home_value",
         "0.0"
        ],
        [
         "housing_units",
         "0.0"
        ],
        [
         "home_ownership",
         "0.0"
        ],
        [
         "income_individual_median",
         "0.0"
        ],
        [
         "income_household_six_figure",
         "0.0"
        ],
        [
         "income_household_150_over",
         "0.0"
        ],
        [
         "unemployment_rate",
         "0.0"
        ],
        [
         "farmer",
         "0.0"
        ]
       ],
       "shape": {
        "columns": 1,
        "rows": 20
       }
      },
      "text/html": [
       "<div>\n",
       "<style scoped>\n",
       "    .dataframe tbody tr th:only-of-type {\n",
       "        vertical-align: middle;\n",
       "    }\n",
       "\n",
       "    .dataframe tbody tr th {\n",
       "        vertical-align: top;\n",
       "    }\n",
       "\n",
       "    .dataframe thead th {\n",
       "        text-align: right;\n",
       "    }\n",
       "</style>\n",
       "<table border=\"1\" class=\"dataframe\">\n",
       "  <thead>\n",
       "    <tr style=\"text-align: right;\">\n",
       "      <th></th>\n",
       "      <th>Porcentaje de valores nulos</th>\n",
       "    </tr>\n",
       "  </thead>\n",
       "  <tbody>\n",
       "    <tr>\n",
       "      <th>patient_race</th>\n",
       "      <td>0.0</td>\n",
       "    </tr>\n",
       "    <tr>\n",
       "      <th>education_less_highschool</th>\n",
       "      <td>0.0</td>\n",
       "    </tr>\n",
       "    <tr>\n",
       "      <th>labor_force_participation</th>\n",
       "      <td>0.0</td>\n",
       "    </tr>\n",
       "    <tr>\n",
       "      <th>education_stem_degree</th>\n",
       "      <td>0.0</td>\n",
       "    </tr>\n",
       "    <tr>\n",
       "      <th>education_college_or_above</th>\n",
       "      <td>0.0</td>\n",
       "    </tr>\n",
       "    <tr>\n",
       "      <th>education_graduate</th>\n",
       "      <td>0.0</td>\n",
       "    </tr>\n",
       "    <tr>\n",
       "      <th>education_bachelors</th>\n",
       "      <td>0.0</td>\n",
       "    </tr>\n",
       "    <tr>\n",
       "      <th>education_some_college</th>\n",
       "      <td>0.0</td>\n",
       "    </tr>\n",
       "    <tr>\n",
       "      <th>education_highschool</th>\n",
       "      <td>0.0</td>\n",
       "    </tr>\n",
       "    <tr>\n",
       "      <th>rent_burden</th>\n",
       "      <td>0.0</td>\n",
       "    </tr>\n",
       "    <tr>\n",
       "      <th>self_employed</th>\n",
       "      <td>0.0</td>\n",
       "    </tr>\n",
       "    <tr>\n",
       "      <th>rent_median</th>\n",
       "      <td>0.0</td>\n",
       "    </tr>\n",
       "    <tr>\n",
       "      <th>home_value</th>\n",
       "      <td>0.0</td>\n",
       "    </tr>\n",
       "    <tr>\n",
       "      <th>housing_units</th>\n",
       "      <td>0.0</td>\n",
       "    </tr>\n",
       "    <tr>\n",
       "      <th>home_ownership</th>\n",
       "      <td>0.0</td>\n",
       "    </tr>\n",
       "    <tr>\n",
       "      <th>income_individual_median</th>\n",
       "      <td>0.0</td>\n",
       "    </tr>\n",
       "    <tr>\n",
       "      <th>income_household_six_figure</th>\n",
       "      <td>0.0</td>\n",
       "    </tr>\n",
       "    <tr>\n",
       "      <th>income_household_150_over</th>\n",
       "      <td>0.0</td>\n",
       "    </tr>\n",
       "    <tr>\n",
       "      <th>unemployment_rate</th>\n",
       "      <td>0.0</td>\n",
       "    </tr>\n",
       "    <tr>\n",
       "      <th>farmer</th>\n",
       "      <td>0.0</td>\n",
       "    </tr>\n",
       "  </tbody>\n",
       "</table>\n",
       "</div>"
      ],
      "text/plain": [
       "                             Porcentaje de valores nulos\n",
       "patient_race                                         0.0\n",
       "education_less_highschool                            0.0\n",
       "labor_force_participation                            0.0\n",
       "education_stem_degree                                0.0\n",
       "education_college_or_above                           0.0\n",
       "education_graduate                                   0.0\n",
       "education_bachelors                                  0.0\n",
       "education_some_college                               0.0\n",
       "education_highschool                                 0.0\n",
       "rent_burden                                          0.0\n",
       "self_employed                                        0.0\n",
       "rent_median                                          0.0\n",
       "home_value                                           0.0\n",
       "housing_units                                        0.0\n",
       "home_ownership                                       0.0\n",
       "income_individual_median                             0.0\n",
       "income_household_six_figure                          0.0\n",
       "income_household_150_over                            0.0\n",
       "unemployment_rate                                    0.0\n",
       "farmer                                               0.0"
      ]
     },
     "metadata": {},
     "output_type": "display_data"
    }
   ],
   "source": [
    "null_percentage = (round(df_test.isnull().mean()*100,2)).to_frame(name='Porcentaje de valores nulos').sort_values(by='Porcentaje de valores nulos', ascending=False)\n",
    "display(null_percentage.head(20))"
   ]
  },
  {
   "cell_type": "markdown",
   "id": "702a4ab4",
   "metadata": {},
   "source": [
    "## Codificación de variables categoricas"
   ]
  },
  {
   "cell_type": "code",
   "execution_count": 35,
   "id": "cd50a2f9",
   "metadata": {},
   "outputs": [],
   "source": [
    "training_categories = df_training.select_dtypes(include=['object']).columns.tolist()\n",
    "training_numeric = df_training.select_dtypes(include=['number']).columns.tolist()"
   ]
  },
  {
   "cell_type": "code",
   "execution_count": 36,
   "id": "4096c0b6",
   "metadata": {},
   "outputs": [
    {
     "data": {
      "application/vnd.microsoft.datawrangler.viewer.v0+json": {
       "columns": [
        {
         "name": "index",
         "rawType": "int64",
         "type": "integer"
        },
        {
         "name": "patient_zip3",
         "rawType": "int64",
         "type": "integer"
        },
        {
         "name": "patient_age",
         "rawType": "int64",
         "type": "integer"
        },
        {
         "name": "population",
         "rawType": "float64",
         "type": "float"
        },
        {
         "name": "density",
         "rawType": "float64",
         "type": "float"
        },
        {
         "name": "age_median",
         "rawType": "float64",
         "type": "float"
        },
        {
         "name": "age_under_10",
         "rawType": "float64",
         "type": "float"
        },
        {
         "name": "age_10_to_19",
         "rawType": "float64",
         "type": "float"
        },
        {
         "name": "age_20s",
         "rawType": "float64",
         "type": "float"
        },
        {
         "name": "age_30s",
         "rawType": "float64",
         "type": "float"
        },
        {
         "name": "age_40s",
         "rawType": "float64",
         "type": "float"
        },
        {
         "name": "age_50s",
         "rawType": "float64",
         "type": "float"
        },
        {
         "name": "age_60s",
         "rawType": "float64",
         "type": "float"
        },
        {
         "name": "age_70s",
         "rawType": "float64",
         "type": "float"
        },
        {
         "name": "age_over_80",
         "rawType": "float64",
         "type": "float"
        },
        {
         "name": "male",
         "rawType": "float64",
         "type": "float"
        },
        {
         "name": "female",
         "rawType": "float64",
         "type": "float"
        },
        {
         "name": "married",
         "rawType": "float64",
         "type": "float"
        },
        {
         "name": "divorced",
         "rawType": "float64",
         "type": "float"
        },
        {
         "name": "never_married",
         "rawType": "float64",
         "type": "float"
        },
        {
         "name": "widowed",
         "rawType": "float64",
         "type": "float"
        },
        {
         "name": "family_size",
         "rawType": "float64",
         "type": "float"
        },
        {
         "name": "family_dual_income",
         "rawType": "float64",
         "type": "float"
        },
        {
         "name": "income_household_median",
         "rawType": "float64",
         "type": "float"
        },
        {
         "name": "income_household_under_5",
         "rawType": "float64",
         "type": "float"
        },
        {
         "name": "income_household_5_to_10",
         "rawType": "float64",
         "type": "float"
        },
        {
         "name": "income_household_10_to_15",
         "rawType": "float64",
         "type": "float"
        },
        {
         "name": "income_household_15_to_20",
         "rawType": "float64",
         "type": "float"
        },
        {
         "name": "income_household_20_to_25",
         "rawType": "float64",
         "type": "float"
        },
        {
         "name": "income_household_25_to_35",
         "rawType": "float64",
         "type": "float"
        },
        {
         "name": "income_household_35_to_50",
         "rawType": "float64",
         "type": "float"
        },
        {
         "name": "income_household_50_to_75",
         "rawType": "float64",
         "type": "float"
        },
        {
         "name": "income_household_75_to_100",
         "rawType": "float64",
         "type": "float"
        },
        {
         "name": "income_household_100_to_150",
         "rawType": "float64",
         "type": "float"
        },
        {
         "name": "income_household_150_over",
         "rawType": "float64",
         "type": "float"
        },
        {
         "name": "income_household_six_figure",
         "rawType": "float64",
         "type": "float"
        },
        {
         "name": "income_individual_median",
         "rawType": "float64",
         "type": "float"
        },
        {
         "name": "home_ownership",
         "rawType": "float64",
         "type": "float"
        },
        {
         "name": "housing_units",
         "rawType": "float64",
         "type": "float"
        },
        {
         "name": "home_value",
         "rawType": "float64",
         "type": "float"
        },
        {
         "name": "rent_median",
         "rawType": "float64",
         "type": "float"
        },
        {
         "name": "rent_burden",
         "rawType": "float64",
         "type": "float"
        },
        {
         "name": "education_less_highschool",
         "rawType": "float64",
         "type": "float"
        },
        {
         "name": "education_highschool",
         "rawType": "float64",
         "type": "float"
        },
        {
         "name": "education_some_college",
         "rawType": "float64",
         "type": "float"
        },
        {
         "name": "education_bachelors",
         "rawType": "float64",
         "type": "float"
        },
        {
         "name": "education_graduate",
         "rawType": "float64",
         "type": "float"
        },
        {
         "name": "education_college_or_above",
         "rawType": "float64",
         "type": "float"
        },
        {
         "name": "education_stem_degree",
         "rawType": "float64",
         "type": "float"
        },
        {
         "name": "labor_force_participation",
         "rawType": "float64",
         "type": "float"
        },
        {
         "name": "unemployment_rate",
         "rawType": "float64",
         "type": "float"
        },
        {
         "name": "self_employed",
         "rawType": "float64",
         "type": "float"
        },
        {
         "name": "farmer",
         "rawType": "float64",
         "type": "float"
        },
        {
         "name": "race_white",
         "rawType": "float64",
         "type": "float"
        },
        {
         "name": "race_black",
         "rawType": "float64",
         "type": "float"
        },
        {
         "name": "race_asian",
         "rawType": "float64",
         "type": "float"
        },
        {
         "name": "race_native",
         "rawType": "float64",
         "type": "float"
        },
        {
         "name": "race_pacific",
         "rawType": "float64",
         "type": "float"
        },
        {
         "name": "race_other",
         "rawType": "float64",
         "type": "float"
        },
        {
         "name": "race_multiple",
         "rawType": "float64",
         "type": "float"
        },
        {
         "name": "hispanic",
         "rawType": "float64",
         "type": "float"
        },
        {
         "name": "disabled",
         "rawType": "float64",
         "type": "float"
        },
        {
         "name": "poverty",
         "rawType": "float64",
         "type": "float"
        },
        {
         "name": "limited_english",
         "rawType": "float64",
         "type": "float"
        },
        {
         "name": "commute_time",
         "rawType": "float64",
         "type": "float"
        },
        {
         "name": "health_uninsured",
         "rawType": "float64",
         "type": "float"
        },
        {
         "name": "veteran",
         "rawType": "float64",
         "type": "float"
        },
        {
         "name": "Ozone",
         "rawType": "float64",
         "type": "float"
        },
        {
         "name": "PM25",
         "rawType": "float64",
         "type": "float"
        },
        {
         "name": "N02",
         "rawType": "float64",
         "type": "float"
        },
        {
         "name": "DiagPeriodL90D",
         "rawType": "int64",
         "type": "integer"
        },
        {
         "name": "patient_race_Asian",
         "rawType": "int64",
         "type": "integer"
        },
        {
         "name": "patient_race_Black",
         "rawType": "int64",
         "type": "integer"
        },
        {
         "name": "patient_race_Hispanic",
         "rawType": "int64",
         "type": "integer"
        },
        {
         "name": "patient_race_Other",
         "rawType": "int64",
         "type": "integer"
        },
        {
         "name": "patient_race_Unknown",
         "rawType": "int64",
         "type": "integer"
        },
        {
         "name": "patient_race_White",
         "rawType": "int64",
         "type": "integer"
        },
        {
         "name": "payer_type_COMMERCIAL",
         "rawType": "int64",
         "type": "integer"
        },
        {
         "name": "payer_type_MEDICAID",
         "rawType": "int64",
         "type": "integer"
        },
        {
         "name": "payer_type_MEDICARE ADVANTAGE",
         "rawType": "int64",
         "type": "integer"
        },
        {
         "name": "payer_type_No insurance",
         "rawType": "int64",
         "type": "integer"
        },
        {
         "name": "patient_state_AL",
         "rawType": "int64",
         "type": "integer"
        },
        {
         "name": "patient_state_AR",
         "rawType": "int64",
         "type": "integer"
        },
        {
         "name": "patient_state_AZ",
         "rawType": "int64",
         "type": "integer"
        },
        {
         "name": "patient_state_CA",
         "rawType": "int64",
         "type": "integer"
        },
        {
         "name": "patient_state_CO",
         "rawType": "int64",
         "type": "integer"
        },
        {
         "name": "patient_state_CT",
         "rawType": "int64",
         "type": "integer"
        },
        {
         "name": "patient_state_DC",
         "rawType": "int64",
         "type": "integer"
        },
        {
         "name": "patient_state_DE",
         "rawType": "int64",
         "type": "integer"
        },
        {
         "name": "patient_state_FL",
         "rawType": "int64",
         "type": "integer"
        },
        {
         "name": "patient_state_GA",
         "rawType": "int64",
         "type": "integer"
        },
        {
         "name": "patient_state_IA",
         "rawType": "int64",
         "type": "integer"
        },
        {
         "name": "patient_state_ID",
         "rawType": "int64",
         "type": "integer"
        },
        {
         "name": "patient_state_IL",
         "rawType": "int64",
         "type": "integer"
        },
        {
         "name": "patient_state_IN",
         "rawType": "int64",
         "type": "integer"
        },
        {
         "name": "patient_state_KS",
         "rawType": "int64",
         "type": "integer"
        },
        {
         "name": "patient_state_KY",
         "rawType": "int64",
         "type": "integer"
        },
        {
         "name": "patient_state_LA",
         "rawType": "int64",
         "type": "integer"
        },
        {
         "name": "patient_state_MA",
         "rawType": "int64",
         "type": "integer"
        },
        {
         "name": "patient_state_MD",
         "rawType": "int64",
         "type": "integer"
        },
        {
         "name": "patient_state_MI",
         "rawType": "int64",
         "type": "integer"
        },
        {
         "name": "patient_state_MN",
         "rawType": "int64",
         "type": "integer"
        },
        {
         "name": "patient_state_MO",
         "rawType": "int64",
         "type": "integer"
        },
        {
         "name": "patient_state_MS",
         "rawType": "int64",
         "type": "integer"
        },
        {
         "name": "patient_state_MT",
         "rawType": "int64",
         "type": "integer"
        },
        {
         "name": "patient_state_NC",
         "rawType": "int64",
         "type": "integer"
        },
        {
         "name": "patient_state_ND",
         "rawType": "int64",
         "type": "integer"
        },
        {
         "name": "patient_state_NE",
         "rawType": "int64",
         "type": "integer"
        },
        {
         "name": "patient_state_NH",
         "rawType": "int64",
         "type": "integer"
        },
        {
         "name": "patient_state_NJ",
         "rawType": "int64",
         "type": "integer"
        },
        {
         "name": "patient_state_NM",
         "rawType": "int64",
         "type": "integer"
        },
        {
         "name": "patient_state_NV",
         "rawType": "int64",
         "type": "integer"
        },
        {
         "name": "patient_state_NY",
         "rawType": "int64",
         "type": "integer"
        },
        {
         "name": "patient_state_OH",
         "rawType": "int64",
         "type": "integer"
        },
        {
         "name": "patient_state_OK",
         "rawType": "int64",
         "type": "integer"
        },
        {
         "name": "patient_state_OR",
         "rawType": "int64",
         "type": "integer"
        },
        {
         "name": "patient_state_PA",
         "rawType": "int64",
         "type": "integer"
        },
        {
         "name": "patient_state_RI",
         "rawType": "int64",
         "type": "integer"
        },
        {
         "name": "patient_state_SC",
         "rawType": "int64",
         "type": "integer"
        },
        {
         "name": "patient_state_SD",
         "rawType": "int64",
         "type": "integer"
        },
        {
         "name": "patient_state_TN",
         "rawType": "int64",
         "type": "integer"
        },
        {
         "name": "patient_state_TX",
         "rawType": "int64",
         "type": "integer"
        },
        {
         "name": "patient_state_UT",
         "rawType": "int64",
         "type": "integer"
        },
        {
         "name": "patient_state_VA",
         "rawType": "int64",
         "type": "integer"
        },
        {
         "name": "patient_state_WA",
         "rawType": "int64",
         "type": "integer"
        },
        {
         "name": "patient_state_WI",
         "rawType": "int64",
         "type": "integer"
        },
        {
         "name": "patient_state_WV",
         "rawType": "int64",
         "type": "integer"
        },
        {
         "name": "patient_state_WY",
         "rawType": "int64",
         "type": "integer"
        },
        {
         "name": "patient_gender_F",
         "rawType": "int64",
         "type": "integer"
        },
        {
         "name": "breast_cancer_diagnosis_code_1741",
         "rawType": "int64",
         "type": "integer"
        },
        {
         "name": "breast_cancer_diagnosis_code_1742",
         "rawType": "int64",
         "type": "integer"
        },
        {
         "name": "breast_cancer_diagnosis_code_1743",
         "rawType": "int64",
         "type": "integer"
        },
        {
         "name": "breast_cancer_diagnosis_code_1744",
         "rawType": "int64",
         "type": "integer"
        },
        {
         "name": "breast_cancer_diagnosis_code_1745",
         "rawType": "int64",
         "type": "integer"
        },
        {
         "name": "breast_cancer_diagnosis_code_1746",
         "rawType": "int64",
         "type": "integer"
        },
        {
         "name": "breast_cancer_diagnosis_code_1748",
         "rawType": "int64",
         "type": "integer"
        },
        {
         "name": "breast_cancer_diagnosis_code_1749",
         "rawType": "int64",
         "type": "integer"
        },
        {
         "name": "breast_cancer_diagnosis_code_1759",
         "rawType": "int64",
         "type": "integer"
        },
        {
         "name": "breast_cancer_diagnosis_code_19881",
         "rawType": "int64",
         "type": "integer"
        },
        {
         "name": "breast_cancer_diagnosis_code_C50",
         "rawType": "int64",
         "type": "integer"
        },
        {
         "name": "breast_cancer_diagnosis_code_C5001",
         "rawType": "int64",
         "type": "integer"
        },
        {
         "name": "breast_cancer_diagnosis_code_C50011",
         "rawType": "int64",
         "type": "integer"
        },
        {
         "name": "breast_cancer_diagnosis_code_C50012",
         "rawType": "int64",
         "type": "integer"
        },
        {
         "name": "breast_cancer_diagnosis_code_C50019",
         "rawType": "int64",
         "type": "integer"
        },
        {
         "name": "breast_cancer_diagnosis_code_C50021",
         "rawType": "int64",
         "type": "integer"
        },
        {
         "name": "breast_cancer_diagnosis_code_C5011",
         "rawType": "int64",
         "type": "integer"
        },
        {
         "name": "breast_cancer_diagnosis_code_C50111",
         "rawType": "int64",
         "type": "integer"
        },
        {
         "name": "breast_cancer_diagnosis_code_C50112",
         "rawType": "int64",
         "type": "integer"
        },
        {
         "name": "breast_cancer_diagnosis_code_C50119",
         "rawType": "int64",
         "type": "integer"
        },
        {
         "name": "breast_cancer_diagnosis_code_C5021",
         "rawType": "int64",
         "type": "integer"
        },
        {
         "name": "breast_cancer_diagnosis_code_C50211",
         "rawType": "int64",
         "type": "integer"
        },
        {
         "name": "breast_cancer_diagnosis_code_C50212",
         "rawType": "int64",
         "type": "integer"
        },
        {
         "name": "breast_cancer_diagnosis_code_C50219",
         "rawType": "int64",
         "type": "integer"
        },
        {
         "name": "breast_cancer_diagnosis_code_C5031",
         "rawType": "int64",
         "type": "integer"
        },
        {
         "name": "breast_cancer_diagnosis_code_C50311",
         "rawType": "int64",
         "type": "integer"
        },
        {
         "name": "breast_cancer_diagnosis_code_C50312",
         "rawType": "int64",
         "type": "integer"
        },
        {
         "name": "breast_cancer_diagnosis_code_C50319",
         "rawType": "int64",
         "type": "integer"
        },
        {
         "name": "breast_cancer_diagnosis_code_C5041",
         "rawType": "int64",
         "type": "integer"
        },
        {
         "name": "breast_cancer_diagnosis_code_C50411",
         "rawType": "int64",
         "type": "integer"
        },
        {
         "name": "breast_cancer_diagnosis_code_C50412",
         "rawType": "int64",
         "type": "integer"
        },
        {
         "name": "breast_cancer_diagnosis_code_C50419",
         "rawType": "int64",
         "type": "integer"
        },
        {
         "name": "breast_cancer_diagnosis_code_C50421",
         "rawType": "int64",
         "type": "integer"
        },
        {
         "name": "breast_cancer_diagnosis_code_C5051",
         "rawType": "int64",
         "type": "integer"
        },
        {
         "name": "breast_cancer_diagnosis_code_C50511",
         "rawType": "int64",
         "type": "integer"
        },
        {
         "name": "breast_cancer_diagnosis_code_C50512",
         "rawType": "int64",
         "type": "integer"
        },
        {
         "name": "breast_cancer_diagnosis_code_C50519",
         "rawType": "int64",
         "type": "integer"
        },
        {
         "name": "breast_cancer_diagnosis_code_C50611",
         "rawType": "int64",
         "type": "integer"
        },
        {
         "name": "breast_cancer_diagnosis_code_C50612",
         "rawType": "int64",
         "type": "integer"
        },
        {
         "name": "breast_cancer_diagnosis_code_C50619",
         "rawType": "int64",
         "type": "integer"
        },
        {
         "name": "breast_cancer_diagnosis_code_C5081",
         "rawType": "int64",
         "type": "integer"
        },
        {
         "name": "breast_cancer_diagnosis_code_C50811",
         "rawType": "int64",
         "type": "integer"
        },
        {
         "name": "breast_cancer_diagnosis_code_C50812",
         "rawType": "int64",
         "type": "integer"
        },
        {
         "name": "breast_cancer_diagnosis_code_C50819",
         "rawType": "int64",
         "type": "integer"
        },
        {
         "name": "breast_cancer_diagnosis_code_C509",
         "rawType": "int64",
         "type": "integer"
        },
        {
         "name": "breast_cancer_diagnosis_code_C5091",
         "rawType": "int64",
         "type": "integer"
        },
        {
         "name": "breast_cancer_diagnosis_code_C50911",
         "rawType": "int64",
         "type": "integer"
        },
        {
         "name": "breast_cancer_diagnosis_code_C50912",
         "rawType": "int64",
         "type": "integer"
        },
        {
         "name": "breast_cancer_diagnosis_code_C50919",
         "rawType": "int64",
         "type": "integer"
        },
        {
         "name": "breast_cancer_diagnosis_code_C50929",
         "rawType": "int64",
         "type": "integer"
        },
        {
         "name": "metastatic_cancer_diagnosis_code_C770",
         "rawType": "int64",
         "type": "integer"
        },
        {
         "name": "metastatic_cancer_diagnosis_code_C771",
         "rawType": "int64",
         "type": "integer"
        },
        {
         "name": "metastatic_cancer_diagnosis_code_C772",
         "rawType": "int64",
         "type": "integer"
        },
        {
         "name": "metastatic_cancer_diagnosis_code_C773",
         "rawType": "int64",
         "type": "integer"
        },
        {
         "name": "metastatic_cancer_diagnosis_code_C774",
         "rawType": "int64",
         "type": "integer"
        },
        {
         "name": "metastatic_cancer_diagnosis_code_C775",
         "rawType": "int64",
         "type": "integer"
        },
        {
         "name": "metastatic_cancer_diagnosis_code_C778",
         "rawType": "int64",
         "type": "integer"
        },
        {
         "name": "metastatic_cancer_diagnosis_code_C779",
         "rawType": "int64",
         "type": "integer"
        },
        {
         "name": "metastatic_cancer_diagnosis_code_C7800",
         "rawType": "int64",
         "type": "integer"
        },
        {
         "name": "metastatic_cancer_diagnosis_code_C7801",
         "rawType": "int64",
         "type": "integer"
        },
        {
         "name": "metastatic_cancer_diagnosis_code_C7802",
         "rawType": "int64",
         "type": "integer"
        },
        {
         "name": "metastatic_cancer_diagnosis_code_C781",
         "rawType": "int64",
         "type": "integer"
        },
        {
         "name": "metastatic_cancer_diagnosis_code_C782",
         "rawType": "int64",
         "type": "integer"
        },
        {
         "name": "metastatic_cancer_diagnosis_code_C7830",
         "rawType": "int64",
         "type": "integer"
        },
        {
         "name": "metastatic_cancer_diagnosis_code_C7839",
         "rawType": "int64",
         "type": "integer"
        },
        {
         "name": "metastatic_cancer_diagnosis_code_C784",
         "rawType": "int64",
         "type": "integer"
        },
        {
         "name": "metastatic_cancer_diagnosis_code_C785",
         "rawType": "int64",
         "type": "integer"
        },
        {
         "name": "metastatic_cancer_diagnosis_code_C786",
         "rawType": "int64",
         "type": "integer"
        },
        {
         "name": "metastatic_cancer_diagnosis_code_C787",
         "rawType": "int64",
         "type": "integer"
        },
        {
         "name": "metastatic_cancer_diagnosis_code_C7880",
         "rawType": "int64",
         "type": "integer"
        },
        {
         "name": "metastatic_cancer_diagnosis_code_C7889",
         "rawType": "int64",
         "type": "integer"
        },
        {
         "name": "metastatic_cancer_diagnosis_code_C7900",
         "rawType": "int64",
         "type": "integer"
        },
        {
         "name": "metastatic_cancer_diagnosis_code_C7901",
         "rawType": "int64",
         "type": "integer"
        },
        {
         "name": "metastatic_cancer_diagnosis_code_C7910",
         "rawType": "int64",
         "type": "integer"
        },
        {
         "name": "metastatic_cancer_diagnosis_code_C7911",
         "rawType": "int64",
         "type": "integer"
        },
        {
         "name": "metastatic_cancer_diagnosis_code_C7919",
         "rawType": "int64",
         "type": "integer"
        },
        {
         "name": "metastatic_cancer_diagnosis_code_C792",
         "rawType": "int64",
         "type": "integer"
        },
        {
         "name": "metastatic_cancer_diagnosis_code_C7931",
         "rawType": "int64",
         "type": "integer"
        },
        {
         "name": "metastatic_cancer_diagnosis_code_C7932",
         "rawType": "int64",
         "type": "integer"
        },
        {
         "name": "metastatic_cancer_diagnosis_code_C7940",
         "rawType": "int64",
         "type": "integer"
        },
        {
         "name": "metastatic_cancer_diagnosis_code_C7949",
         "rawType": "int64",
         "type": "integer"
        },
        {
         "name": "metastatic_cancer_diagnosis_code_C7951",
         "rawType": "int64",
         "type": "integer"
        },
        {
         "name": "metastatic_cancer_diagnosis_code_C7952",
         "rawType": "int64",
         "type": "integer"
        },
        {
         "name": "metastatic_cancer_diagnosis_code_C7960",
         "rawType": "int64",
         "type": "integer"
        },
        {
         "name": "metastatic_cancer_diagnosis_code_C7961",
         "rawType": "int64",
         "type": "integer"
        },
        {
         "name": "metastatic_cancer_diagnosis_code_C7962",
         "rawType": "int64",
         "type": "integer"
        },
        {
         "name": "metastatic_cancer_diagnosis_code_C7970",
         "rawType": "int64",
         "type": "integer"
        },
        {
         "name": "metastatic_cancer_diagnosis_code_C7971",
         "rawType": "int64",
         "type": "integer"
        },
        {
         "name": "metastatic_cancer_diagnosis_code_C7972",
         "rawType": "int64",
         "type": "integer"
        },
        {
         "name": "metastatic_cancer_diagnosis_code_C7981",
         "rawType": "int64",
         "type": "integer"
        },
        {
         "name": "metastatic_cancer_diagnosis_code_C7982",
         "rawType": "int64",
         "type": "integer"
        },
        {
         "name": "metastatic_cancer_diagnosis_code_C7989",
         "rawType": "int64",
         "type": "integer"
        },
        {
         "name": "metastatic_cancer_diagnosis_code_C799",
         "rawType": "int64",
         "type": "integer"
        },
        {
         "name": "Region_Midwest",
         "rawType": "int64",
         "type": "integer"
        },
        {
         "name": "Region_Northeast",
         "rawType": "int64",
         "type": "integer"
        },
        {
         "name": "Region_South",
         "rawType": "int64",
         "type": "integer"
        },
        {
         "name": "Region_West",
         "rawType": "int64",
         "type": "integer"
        },
        {
         "name": "Division_East North Central",
         "rawType": "int64",
         "type": "integer"
        },
        {
         "name": "Division_East South Central",
         "rawType": "int64",
         "type": "integer"
        },
        {
         "name": "Division_Middle Atlantic",
         "rawType": "int64",
         "type": "integer"
        },
        {
         "name": "Division_Mountain",
         "rawType": "int64",
         "type": "integer"
        },
        {
         "name": "Division_New England",
         "rawType": "int64",
         "type": "integer"
        },
        {
         "name": "Division_Pacific",
         "rawType": "int64",
         "type": "integer"
        },
        {
         "name": "Division_South Atlantic",
         "rawType": "int64",
         "type": "integer"
        },
        {
         "name": "Division_West North Central",
         "rawType": "int64",
         "type": "integer"
        },
        {
         "name": "Division_West South Central",
         "rawType": "int64",
         "type": "integer"
        },
        {
         "name": "bmi_category_Extreme",
         "rawType": "int64",
         "type": "integer"
        },
        {
         "name": "bmi_category_Normal",
         "rawType": "int64",
         "type": "integer"
        },
        {
         "name": "bmi_category_Obesity I",
         "rawType": "int64",
         "type": "integer"
        },
        {
         "name": "bmi_category_Obesity II",
         "rawType": "int64",
         "type": "integer"
        },
        {
         "name": "bmi_category_Overweight",
         "rawType": "int64",
         "type": "integer"
        },
        {
         "name": "bmi_category_Underweight",
         "rawType": "int64",
         "type": "integer"
        },
        {
         "name": "bmi_category_Unknown",
         "rawType": "int64",
         "type": "integer"
        }
       ],
       "ref": "25d15c68-e003-4058-91a2-e2e2673f2ea4",
       "rows": [
        [
         "0",
         "924",
         "84",
         "31437.75",
         "1189.5625",
         "30.64285714",
         "16.01428571",
         "15.54285714",
         "17.61428571",
         "14.01428571",
         "11.61428571",
         "11.55714286",
         "7.571428571",
         "4.0",
         "2.1",
         "49.85714286",
         "50.14285714",
         "36.57142857",
         "11.88571429",
         "47.11428571",
         "4.442857143",
         "3.928571429",
         "52.22857143",
         "52996.28571",
         "3.142857143",
         "4.0",
         "6.157142857",
         "5.142857143",
         "6.271428571",
         "10.14285714",
         "13.3",
         "20.0",
         "12.74285714",
         "11.57142857",
         "7.528571429",
         "19.1",
         "24563.57143",
         "44.58571429",
         "8674.5",
         "264634.2857",
         "1165.0",
         "37.44285714",
         "33.25714286",
         "29.2",
         "25.91428571",
         "8.357142857",
         "3.257142857",
         "11.61428571",
         "39.55714286",
         "61.52857143",
         "8.471428571",
         "13.42857143",
         "0.0",
         "44.1",
         "13.1",
         "5.1",
         "1.485714286",
         "0.342857143",
         "27.11428571",
         "8.757142857",
         "66.68571429",
         "12.87142857",
         "22.54285714",
         "10.1",
         "27.81428571",
         "11.2",
         "3.5",
         "52.23720962",
         "8.650554933",
         "18.60652816",
         "1",
         "0",
         "0",
         "0",
         "0",
         "1",
         "0",
         "0",
         "1",
         "0",
         "0",
         "0",
         "0",
         "0",
         "1",
         "0",
         "0",
         "0",
         "0",
         "0",
         "0",
         "0",
         "0",
         "0",
         "0",
         "0",
         "0",
         "0",
         "0",
         "0",
         "0",
         "0",
         "0",
         "0",
         "0",
         "0",
         "0",
         "0",
         "0",
         "0",
         "0",
         "0",
         "0",
         "0",
         "0",
         "0",
         "0",
         "0",
         "0",
         "0",
         "0",
         "0",
         "0",
         "0",
         "0",
         "0",
         "0",
         "0",
         "1",
         "0",
         "0",
         "0",
         "0",
         "0",
         "0",
         "0",
         "0",
         "0",
         "0",
         "0",
         "0",
         "0",
         "0",
         "0",
         "0",
         "0",
         "0",
         "0",
         "0",
         "0",
         "0",
         "0",
         "0",
         "0",
         "0",
         "0",
         "0",
         "0",
         "0",
         "0",
         "0",
         "0",
         "0",
         "0",
         "0",
         "0",
         "0",
         "0",
         "0",
         "0",
         "0",
         "0",
         "0",
         "0",
         "0",
         "0",
         "0",
         "1",
         "0",
         "0",
         "0",
         "0",
         "0",
         "0",
         "0",
         "0",
         "0",
         "0",
         "0",
         "0",
         "0",
         "0",
         "0",
         "0",
         "0",
         "0",
         "0",
         "0",
         "0",
         "0",
         "0",
         "0",
         "0",
         "0",
         "0",
         "0",
         "0",
         "0",
         "0",
         "0",
         "0",
         "0",
         "0",
         "0",
         "0",
         "0",
         "0",
         "0",
         "0",
         "0",
         "1",
         "0",
         "0",
         "0",
         "0",
         "1",
         "0",
         "0",
         "0",
         "0",
         "0",
         "1",
         "0",
         "0",
         "0",
         "0",
         "0",
         "0",
         "0",
         "0",
         "0",
         "1"
        ],
        [
         "1",
         "928",
         "62",
         "39121.87879",
         "2295.939394",
         "38.2",
         "11.87878788",
         "13.35454545",
         "14.23030303",
         "13.41818182",
         "13.33333333",
         "14.06060606",
         "10.24848485",
         "5.951515152",
         "3.503030303",
         "49.89393939",
         "50.10606061",
         "50.24545455",
         "9.827272727",
         "35.29090909",
         "4.651515152",
         "3.622727273",
         "61.73636364",
         "102741.6364",
         "2.327272727",
         "1.536363636",
         "2.648484848",
         "2.178787879",
         "2.409090909",
         "5.163636364",
         "7.972727273",
         "13.93636364",
         "12.46969697",
         "19.76060606",
         "29.5969697",
         "49.35757576",
         "41287.27273",
         "61.46363636",
         "11725.66667",
         "677688.5152",
         "2003.125",
         "34.753125",
         "14.23030303",
         "19.98787879",
         "29.7969697",
         "23.73939394",
         "12.24545455",
         "35.98484848",
         "47.91818182",
         "65.23030303",
         "5.103030303",
         "15.22424242",
         "0.027272727",
         "54.03030303",
         "2.527272727",
         "20.82727273",
         "0.587878788",
         "0.3",
         "11.64545455",
         "10.08181818",
         "37.94848485",
         "8.957575758",
         "10.10909091",
         "8.057575758",
         "30.60606061",
         "7.018181818",
         "4.103030303",
         "42.30112108",
         "8.487175281",
         "20.11317862",
         "1",
         "0",
         "0",
         "0",
         "0",
         "0",
         "1",
         "1",
         "0",
         "0",
         "0",
         "0",
         "0",
         "0",
         "1",
         "0",
         "0",
         "0",
         "0",
         "0",
         "0",
         "0",
         "0",
         "0",
         "0",
         "0",
         "0",
         "0",
         "0",
         "0",
         "0",
         "0",
         "0",
         "0",
         "0",
         "0",
         "0",
         "0",
         "0",
         "0",
         "0",
         "0",
         "0",
         "0",
         "0",
         "0",
         "0",
         "0",
         "0",
         "0",
         "0",
         "0",
         "0",
         "0",
         "0",
         "0",
         "0",
         "0",
         "1",
         "0",
         "0",
         "0",
         "0",
         "0",
         "0",
         "0",
         "0",
         "0",
         "0",
         "0",
         "0",
         "0",
         "0",
         "0",
         "0",
         "0",
         "0",
         "0",
         "0",
         "0",
         "0",
         "0",
         "0",
         "0",
         "0",
         "0",
         "0",
         "0",
         "1",
         "0",
         "0",
         "0",
         "0",
         "0",
         "0",
         "0",
         "0",
         "0",
         "0",
         "0",
         "0",
         "0",
         "0",
         "0",
         "0",
         "0",
         "0",
         "0",
         "0",
         "0",
         "0",
         "0",
         "1",
         "0",
         "0",
         "0",
         "0",
         "0",
         "0",
         "0",
         "0",
         "0",
         "0",
         "0",
         "0",
         "0",
         "0",
         "0",
         "0",
         "0",
         "0",
         "0",
         "0",
         "0",
         "0",
         "0",
         "0",
         "0",
         "0",
         "0",
         "0",
         "0",
         "0",
         "0",
         "0",
         "0",
         "0",
         "0",
         "0",
         "0",
         "0",
         "0",
         "0",
         "0",
         "0",
         "1",
         "0",
         "0",
         "0",
         "0",
         "0",
         "1",
         "0",
         "0",
         "0",
         "0",
         "0",
         "0",
         "0",
         "1",
         "0",
         "0"
        ],
        [
         "2",
         "760",
         "43",
         "21996.68333",
         "626.2366667",
         "37.90666667",
         "13.02833333",
         "14.46333333",
         "12.53166667",
         "13.545",
         "12.86",
         "12.77",
         "11.42666667",
         "6.565",
         "2.811666667",
         "50.12333333",
         "49.87666667",
         "55.75333333",
         "12.33",
         "27.195",
         "4.71",
         "3.260666667",
         "55.80166667",
         "85984.74138",
         "2.483333333",
         "1.305",
         "2.716666667",
         "2.938333333",
         "2.766666667",
         "6.763333333",
         "12.06166667",
         "15.835",
         "13.56",
         "20.875",
         "18.68",
         "39.555",
         "40399.03333",
         "72.745",
         "7786.583333",
         "237713.0545",
         "1235.907407",
         "29.35849057",
         "10.81166667",
         "27.03833333",
         "32.36833333",
         "19.67833333",
         "10.115",
         "29.79333333",
         "37.30847458",
         "66.42833333",
         "4.56",
         "13.7220339",
         "3.650847458",
         "75.82",
         "9.231666667",
         "3.618333333",
         "0.463333333",
         "0.146666667",
         "3.816666667",
         "6.898333333",
         "19.37",
         "11.25333333",
         "9.663333333",
         "3.356666667",
         "31.39491525",
         "15.06666667",
         "7.446666667",
         "40.10820696",
         "7.642753203",
         "14.83935089",
         "1",
         "0",
         "0",
         "0",
         "0",
         "0",
         "1",
         "1",
         "0",
         "0",
         "0",
         "0",
         "0",
         "0",
         "0",
         "0",
         "0",
         "0",
         "0",
         "0",
         "0",
         "0",
         "0",
         "0",
         "0",
         "0",
         "0",
         "0",
         "0",
         "0",
         "0",
         "0",
         "0",
         "0",
         "0",
         "0",
         "0",
         "0",
         "0",
         "0",
         "0",
         "0",
         "0",
         "0",
         "0",
         "0",
         "0",
         "0",
         "0",
         "0",
         "0",
         "1",
         "0",
         "0",
         "0",
         "0",
         "0",
         "0",
         "1",
         "0",
         "0",
         "0",
         "0",
         "0",
         "0",
         "0",
         "0",
         "0",
         "0",
         "0",
         "0",
         "0",
         "0",
         "0",
         "0",
         "0",
         "0",
         "1",
         "0",
         "0",
         "0",
         "0",
         "0",
         "0",
         "0",
         "0",
         "0",
         "0",
         "0",
         "0",
         "0",
         "0",
         "0",
         "0",
         "0",
         "0",
         "0",
         "0",
         "0",
         "0",
         "0",
         "0",
         "0",
         "0",
         "0",
         "0",
         "0",
         "0",
         "0",
         "0",
         "0",
         "0",
         "1",
         "0",
         "0",
         "0",
         "0",
         "0",
         "0",
         "0",
         "0",
         "0",
         "0",
         "0",
         "0",
         "0",
         "0",
         "0",
         "0",
         "0",
         "0",
         "0",
         "0",
         "0",
         "0",
         "0",
         "0",
         "0",
         "0",
         "0",
         "0",
         "0",
         "0",
         "0",
         "0",
         "0",
         "0",
         "0",
         "0",
         "0",
         "0",
         "0",
         "0",
         "0",
         "1",
         "0",
         "0",
         "0",
         "0",
         "0",
         "0",
         "0",
         "0",
         "0",
         "1",
         "0",
         "0",
         "0",
         "1",
         "0",
         "0",
         "0"
        ],
        [
         "3",
         "926",
         "45",
         "32795.32558",
         "1896.22093",
         "42.87142857",
         "10.07142857",
         "12.13571429",
         "12.53809524",
         "12.46428571",
         "12.65",
         "14.84761905",
         "12.28095238",
         "8.216666667",
         "4.75952381",
         "49.06666667",
         "50.93333333",
         "52.6047619",
         "11.62380952",
         "31.14285714",
         "4.623809524",
         "3.098095238",
         "54.56428571",
         "120533.8333",
         "3.435714286",
         "1.273809524",
         "2.180952381",
         "2.211904762",
         "2.1",
         "4.380952381",
         "5.885714286",
         "10.89761905",
         "10.72142857",
         "18.85",
         "38.05714286",
         "56.90714286",
         "55336.28571",
         "59.22142857",
         "12171.30233",
         "1012474.22",
         "2354.738095",
         "32.03095238",
         "5.835714286",
         "12.1452381",
         "26.26904762",
         "33.28571429",
         "22.45952381",
         "55.7452381",
         "48.93809524",
         "64.43095238",
         "5.264285714",
         "18.50238095",
         "0.052380952",
         "65.01428571",
         "1.438095238",
         "18.8452381",
         "0.430952381",
         "0.252380952",
         "5.428571429",
         "8.611904762",
         "16.71666667",
         "8.845238095",
         "8.688095238",
         "5.280952381",
         "27.56190476",
         "4.404761905",
         "4.80952381",
         "42.07007511",
         "7.229392562",
         "15.89412333",
         "0",
         "0",
         "0",
         "0",
         "0",
         "0",
         "1",
         "1",
         "0",
         "0",
         "0",
         "0",
         "0",
         "0",
         "1",
         "0",
         "0",
         "0",
         "0",
         "0",
         "0",
         "0",
         "0",
         "0",
         "0",
         "0",
         "0",
         "0",
         "0",
         "0",
         "0",
         "0",
         "0",
         "0",
         "0",
         "0",
         "0",
         "0",
         "0",
         "0",
         "0",
         "0",
         "0",
         "0",
         "0",
         "0",
         "0",
         "0",
         "0",
         "0",
         "0",
         "0",
         "0",
         "0",
         "0",
         "0",
         "0",
         "0",
         "1",
         "0",
         "0",
         "0",
         "0",
         "0",
         "0",
         "0",
         "0",
         "0",
         "0",
         "0",
         "0",
         "0",
         "0",
         "0",
         "0",
         "0",
         "0",
         "0",
         "0",
         "0",
         "0",
         "1",
         "0",
         "0",
         "0",
         "0",
         "0",
         "0",
         "0",
         "0",
         "0",
         "0",
         "0",
         "0",
         "0",
         "0",
         "0",
         "0",
         "0",
         "0",
         "0",
         "0",
         "0",
         "0",
         "0",
         "0",
         "0",
         "0",
         "0",
         "0",
         "0",
         "0",
         "1",
         "0",
         "0",
         "0",
         "0",
         "0",
         "0",
         "0",
         "0",
         "0",
         "0",
         "0",
         "0",
         "0",
         "0",
         "0",
         "0",
         "0",
         "0",
         "0",
         "0",
         "0",
         "0",
         "0",
         "0",
         "0",
         "0",
         "0",
         "0",
         "0",
         "0",
         "0",
         "0",
         "0",
         "0",
         "0",
         "0",
         "0",
         "0",
         "0",
         "0",
         "0",
         "0",
         "1",
         "0",
         "0",
         "0",
         "0",
         "0",
         "1",
         "0",
         "0",
         "0",
         "0",
         "0",
         "0",
         "0",
         "0",
         "0",
         "1"
        ],
        [
         "4",
         "836",
         "55",
         "10886.26",
         "116.886",
         "43.47346939",
         "10.824",
         "13.976",
         "9.492",
         "10.364",
         "12.6",
         "14.992",
         "14.836",
         "9.462",
         "3.466",
         "52.312",
         "47.688",
         "57.882",
         "14.964",
         "21.76",
         "5.406",
         "3.352653061",
         "47.21428571",
         "61075.13043",
         "2.594",
         "1.96",
         "3.168",
         "3.24",
         "4.778",
         "11.462",
         "15.656",
         "22.432",
         "12.48",
         "13.62",
         "8.606",
         "22.226",
         "29073.18367",
         "77.098",
         "3768.06",
         "249845.7179",
         "919.7435897",
         "27.02972973",
         "11.576",
         "29.59",
         "39.168",
         "13.978",
         "5.684",
         "19.662",
         "42.33265306",
         "57.488",
         "4.258",
         "13.02954545",
         "6.890909091",
         "86.712",
         "0.426",
         "0.656",
         "0.76",
         "0.108",
         "5.08",
         "6.258",
         "13.334",
         "15.276",
         "11.224",
         "1.946",
         "26.17021277",
         "12.088",
         "13.106",
         "41.35605766",
         "4.110748854",
         "11.72219715",
         "0",
         "0",
         "0",
         "0",
         "0",
         "1",
         "0",
         "1",
         "0",
         "0",
         "0",
         "0",
         "0",
         "0",
         "0",
         "0",
         "0",
         "0",
         "0",
         "0",
         "0",
         "0",
         "1",
         "0",
         "0",
         "0",
         "0",
         "0",
         "0",
         "0",
         "0",
         "0",
         "0",
         "0",
         "0",
         "0",
         "0",
         "0",
         "0",
         "0",
         "0",
         "0",
         "0",
         "0",
         "0",
         "0",
         "0",
         "0",
         "0",
         "0",
         "0",
         "0",
         "0",
         "0",
         "0",
         "0",
         "0",
         "0",
         "1",
         "0",
         "0",
         "0",
         "0",
         "0",
         "0",
         "0",
         "1",
         "0",
         "0",
         "0",
         "0",
         "0",
         "0",
         "0",
         "0",
         "0",
         "0",
         "0",
         "0",
         "0",
         "0",
         "0",
         "0",
         "0",
         "0",
         "0",
         "0",
         "0",
         "0",
         "0",
         "0",
         "0",
         "0",
         "0",
         "0",
         "0",
         "0",
         "0",
         "0",
         "0",
         "0",
         "0",
         "0",
         "0",
         "0",
         "0",
         "0",
         "0",
         "0",
         "0",
         "0",
         "0",
         "1",
         "0",
         "0",
         "0",
         "0",
         "0",
         "0",
         "0",
         "0",
         "0",
         "0",
         "0",
         "0",
         "0",
         "0",
         "0",
         "0",
         "0",
         "0",
         "0",
         "0",
         "0",
         "0",
         "0",
         "0",
         "0",
         "0",
         "0",
         "0",
         "0",
         "0",
         "0",
         "0",
         "0",
         "0",
         "0",
         "0",
         "0",
         "0",
         "0",
         "0",
         "0",
         "0",
         "1",
         "0",
         "0",
         "0",
         "1",
         "0",
         "0",
         "0",
         "0",
         "0",
         "0",
         "0",
         "0",
         "0",
         "0",
         "0",
         "1"
        ]
       ],
       "shape": {
        "columns": 241,
        "rows": 5
       }
      },
      "text/html": [
       "<div>\n",
       "<style scoped>\n",
       "    .dataframe tbody tr th:only-of-type {\n",
       "        vertical-align: middle;\n",
       "    }\n",
       "\n",
       "    .dataframe tbody tr th {\n",
       "        vertical-align: top;\n",
       "    }\n",
       "\n",
       "    .dataframe thead th {\n",
       "        text-align: right;\n",
       "    }\n",
       "</style>\n",
       "<table border=\"1\" class=\"dataframe\">\n",
       "  <thead>\n",
       "    <tr style=\"text-align: right;\">\n",
       "      <th></th>\n",
       "      <th>patient_zip3</th>\n",
       "      <th>patient_age</th>\n",
       "      <th>population</th>\n",
       "      <th>density</th>\n",
       "      <th>age_median</th>\n",
       "      <th>age_under_10</th>\n",
       "      <th>age_10_to_19</th>\n",
       "      <th>age_20s</th>\n",
       "      <th>age_30s</th>\n",
       "      <th>age_40s</th>\n",
       "      <th>...</th>\n",
       "      <th>Division_South Atlantic</th>\n",
       "      <th>Division_West North Central</th>\n",
       "      <th>Division_West South Central</th>\n",
       "      <th>bmi_category_Extreme</th>\n",
       "      <th>bmi_category_Normal</th>\n",
       "      <th>bmi_category_Obesity I</th>\n",
       "      <th>bmi_category_Obesity II</th>\n",
       "      <th>bmi_category_Overweight</th>\n",
       "      <th>bmi_category_Underweight</th>\n",
       "      <th>bmi_category_Unknown</th>\n",
       "    </tr>\n",
       "  </thead>\n",
       "  <tbody>\n",
       "    <tr>\n",
       "      <th>0</th>\n",
       "      <td>924</td>\n",
       "      <td>84</td>\n",
       "      <td>31437.75000</td>\n",
       "      <td>1189.562500</td>\n",
       "      <td>30.642857</td>\n",
       "      <td>16.014286</td>\n",
       "      <td>15.542857</td>\n",
       "      <td>17.614286</td>\n",
       "      <td>14.014286</td>\n",
       "      <td>11.614286</td>\n",
       "      <td>...</td>\n",
       "      <td>0</td>\n",
       "      <td>0</td>\n",
       "      <td>0</td>\n",
       "      <td>0</td>\n",
       "      <td>0</td>\n",
       "      <td>0</td>\n",
       "      <td>0</td>\n",
       "      <td>0</td>\n",
       "      <td>0</td>\n",
       "      <td>1</td>\n",
       "    </tr>\n",
       "    <tr>\n",
       "      <th>1</th>\n",
       "      <td>928</td>\n",
       "      <td>62</td>\n",
       "      <td>39121.87879</td>\n",
       "      <td>2295.939394</td>\n",
       "      <td>38.200000</td>\n",
       "      <td>11.878788</td>\n",
       "      <td>13.354545</td>\n",
       "      <td>14.230303</td>\n",
       "      <td>13.418182</td>\n",
       "      <td>13.333333</td>\n",
       "      <td>...</td>\n",
       "      <td>0</td>\n",
       "      <td>0</td>\n",
       "      <td>0</td>\n",
       "      <td>0</td>\n",
       "      <td>0</td>\n",
       "      <td>0</td>\n",
       "      <td>0</td>\n",
       "      <td>1</td>\n",
       "      <td>0</td>\n",
       "      <td>0</td>\n",
       "    </tr>\n",
       "    <tr>\n",
       "      <th>2</th>\n",
       "      <td>760</td>\n",
       "      <td>43</td>\n",
       "      <td>21996.68333</td>\n",
       "      <td>626.236667</td>\n",
       "      <td>37.906667</td>\n",
       "      <td>13.028333</td>\n",
       "      <td>14.463333</td>\n",
       "      <td>12.531667</td>\n",
       "      <td>13.545000</td>\n",
       "      <td>12.860000</td>\n",
       "      <td>...</td>\n",
       "      <td>0</td>\n",
       "      <td>0</td>\n",
       "      <td>1</td>\n",
       "      <td>0</td>\n",
       "      <td>0</td>\n",
       "      <td>0</td>\n",
       "      <td>1</td>\n",
       "      <td>0</td>\n",
       "      <td>0</td>\n",
       "      <td>0</td>\n",
       "    </tr>\n",
       "    <tr>\n",
       "      <th>3</th>\n",
       "      <td>926</td>\n",
       "      <td>45</td>\n",
       "      <td>32795.32558</td>\n",
       "      <td>1896.220930</td>\n",
       "      <td>42.871429</td>\n",
       "      <td>10.071429</td>\n",
       "      <td>12.135714</td>\n",
       "      <td>12.538095</td>\n",
       "      <td>12.464286</td>\n",
       "      <td>12.650000</td>\n",
       "      <td>...</td>\n",
       "      <td>0</td>\n",
       "      <td>0</td>\n",
       "      <td>0</td>\n",
       "      <td>0</td>\n",
       "      <td>0</td>\n",
       "      <td>0</td>\n",
       "      <td>0</td>\n",
       "      <td>0</td>\n",
       "      <td>0</td>\n",
       "      <td>1</td>\n",
       "    </tr>\n",
       "    <tr>\n",
       "      <th>4</th>\n",
       "      <td>836</td>\n",
       "      <td>55</td>\n",
       "      <td>10886.26000</td>\n",
       "      <td>116.886000</td>\n",
       "      <td>43.473469</td>\n",
       "      <td>10.824000</td>\n",
       "      <td>13.976000</td>\n",
       "      <td>9.492000</td>\n",
       "      <td>10.364000</td>\n",
       "      <td>12.600000</td>\n",
       "      <td>...</td>\n",
       "      <td>0</td>\n",
       "      <td>0</td>\n",
       "      <td>0</td>\n",
       "      <td>0</td>\n",
       "      <td>0</td>\n",
       "      <td>0</td>\n",
       "      <td>0</td>\n",
       "      <td>0</td>\n",
       "      <td>0</td>\n",
       "      <td>1</td>\n",
       "    </tr>\n",
       "  </tbody>\n",
       "</table>\n",
       "<p>5 rows × 241 columns</p>\n",
       "</div>"
      ],
      "text/plain": [
       "   patient_zip3  patient_age   population      density  age_median  \\\n",
       "0           924           84  31437.75000  1189.562500   30.642857   \n",
       "1           928           62  39121.87879  2295.939394   38.200000   \n",
       "2           760           43  21996.68333   626.236667   37.906667   \n",
       "3           926           45  32795.32558  1896.220930   42.871429   \n",
       "4           836           55  10886.26000   116.886000   43.473469   \n",
       "\n",
       "   age_under_10  age_10_to_19    age_20s    age_30s    age_40s  ...  \\\n",
       "0     16.014286     15.542857  17.614286  14.014286  11.614286  ...   \n",
       "1     11.878788     13.354545  14.230303  13.418182  13.333333  ...   \n",
       "2     13.028333     14.463333  12.531667  13.545000  12.860000  ...   \n",
       "3     10.071429     12.135714  12.538095  12.464286  12.650000  ...   \n",
       "4     10.824000     13.976000   9.492000  10.364000  12.600000  ...   \n",
       "\n",
       "   Division_South Atlantic  Division_West North Central  \\\n",
       "0                        0                            0   \n",
       "1                        0                            0   \n",
       "2                        0                            0   \n",
       "3                        0                            0   \n",
       "4                        0                            0   \n",
       "\n",
       "   Division_West South Central  bmi_category_Extreme  bmi_category_Normal  \\\n",
       "0                            0                     0                    0   \n",
       "1                            0                     0                    0   \n",
       "2                            1                     0                    0   \n",
       "3                            0                     0                    0   \n",
       "4                            0                     0                    0   \n",
       "\n",
       "   bmi_category_Obesity I  bmi_category_Obesity II  bmi_category_Overweight  \\\n",
       "0                       0                        0                        0   \n",
       "1                       0                        0                        1   \n",
       "2                       0                        1                        0   \n",
       "3                       0                        0                        0   \n",
       "4                       0                        0                        0   \n",
       "\n",
       "   bmi_category_Underweight  bmi_category_Unknown  \n",
       "0                         0                     1  \n",
       "1                         0                     0  \n",
       "2                         0                     0  \n",
       "3                         0                     1  \n",
       "4                         0                     1  \n",
       "\n",
       "[5 rows x 241 columns]"
      ]
     },
     "execution_count": 36,
     "metadata": {},
     "output_type": "execute_result"
    }
   ],
   "source": [
    "df_training_encoded = pd.get_dummies(df_training, columns=training_categories, drop_first=False, dtype=int)\n",
    "df_training_encoded.head()"
   ]
  },
  {
   "cell_type": "code",
   "execution_count": 37,
   "id": "e99b9a41",
   "metadata": {},
   "outputs": [],
   "source": [
    "df_test_encoded = pd.get_dummies(df_test, columns=training_categories, drop_first=False, dtype=int)"
   ]
  },
  {
   "cell_type": "code",
   "execution_count": 38,
   "id": "dd6c431d",
   "metadata": {},
   "outputs": [
    {
     "data": {
      "text/plain": [
       "(12822, 241)"
      ]
     },
     "execution_count": 38,
     "metadata": {},
     "output_type": "execute_result"
    }
   ],
   "source": [
    "df_training_encoded.shape"
   ]
  },
  {
   "cell_type": "markdown",
   "id": "dae003c6",
   "metadata": {},
   "source": [
    "## Modelos ML"
   ]
  },
  {
   "cell_type": "code",
   "execution_count": 39,
   "id": "57a1b46c",
   "metadata": {},
   "outputs": [],
   "source": [
    "X = df_training_encoded.drop(columns=['DiagPeriodL90D'])\n",
    "y = df_training_encoded['DiagPeriodL90D']"
   ]
  },
  {
   "cell_type": "code",
   "execution_count": 40,
   "id": "c55ef974",
   "metadata": {},
   "outputs": [
    {
     "name": "stdout",
     "output_type": "stream",
     "text": [
      "Train size: 10257\n",
      "Test size: 2565\n"
     ]
    }
   ],
   "source": [
    "# split de datos de entrenamiento y datos de validacion\n",
    "\n",
    "X_train, X_test, y_train, y_test = train_test_split(X,\n",
    "                                                    y, \n",
    "                                                    train_size=0.8, \n",
    "                                                    stratify=y,\n",
    "                                                    random_state=10)\n",
    "print(\"Train size: {}\".format(len(y_train)))\n",
    "print(\"Test size: {}\".format(len(y_test)))"
   ]
  },
  {
   "cell_type": "code",
   "execution_count": 41,
   "id": "5785abcc",
   "metadata": {},
   "outputs": [
    {
     "name": "stdout",
     "output_type": "stream",
     "text": [
      "Entrenamiento del modelo utilizando dataset original: comienza!\n"
     ]
    },
    {
     "name": "stderr",
     "output_type": "stream",
     "text": [
      "/opt/homebrew/anaconda3/envs/Programacion_II/lib/python3.9/site-packages/sklearn/linear_model/_logistic.py:465: ConvergenceWarning: lbfgs failed to converge (status=1):\n",
      "STOP: TOTAL NO. of ITERATIONS REACHED LIMIT.\n",
      "\n",
      "Increase the number of iterations (max_iter) or scale the data as shown in:\n",
      "    https://scikit-learn.org/stable/modules/preprocessing.html\n",
      "Please also refer to the documentation for alternative solver options:\n",
      "    https://scikit-learn.org/stable/modules/linear_model.html#logistic-regression\n",
      "  n_iter_i = _check_optimize_result(\n"
     ]
    },
    {
     "name": "stdout",
     "output_type": "stream",
     "text": [
      "Logistic Regression , entrenamiento: completado!\n",
      "Naive Bayes , entrenamiento: completado!\n",
      "k-Nearest Neighbors , entrenamiento: completado!\n",
      "Decision Tree , entrenamiento: completado!\n",
      "Entrenamiento del modelo utilizando dataset original: termina!\n",
      "\n"
     ]
    }
   ],
   "source": [
    "# Entrenamiento de varios modelos ML\n",
    "random_state  = 13\n",
    "\n",
    "\n",
    "clf_keys = [\"Logistic Regression\", \"Naive Bayes\", \"k-Nearest Neighbors\",\n",
    "            \"Decision Tree\"]\n",
    "clf_values = [LogisticRegression(random_state=random_state, max_iter=10000),\n",
    "              #SVC(kernel=\"linear\", random_state=random_state),\n",
    "              GaussianNB(),\n",
    "              KNeighborsClassifier(),\n",
    "              DecisionTreeClassifier(random_state=random_state, min_samples_split=50,min_samples_leaf=20)]\n",
    "\n",
    "\n",
    "clfs = dict(zip(clf_keys, clf_values))\n",
    "\n",
    "# Dataset original\n",
    "print(\"Entrenamiento del modelo utilizando dataset original: comienza!\")\n",
    "for clf_name, clf in clfs.items():\n",
    "    clf.fit(X_train, y_train)\n",
    "    clfs[clf_name] = clf\n",
    "    print(clf_name, \", entrenamiento: completado!\")\n",
    "print(\"Entrenamiento del modelo utilizando dataset original: termina!\\n\")"
   ]
  },
  {
   "cell_type": "code",
   "execution_count": 42,
   "id": "67e9bb7f",
   "metadata": {},
   "outputs": [
    {
     "data": {
      "application/vnd.microsoft.datawrangler.viewer.v0+json": {
       "columns": [
        {
         "name": "index",
         "rawType": "object",
         "type": "string"
        },
        {
         "name": "Original dataset",
         "rawType": "float64",
         "type": "float"
        }
       ],
       "ref": "c0943271-87d4-46d3-b1d7-cb00774f5b2d",
       "rows": [
        [
         "Logistic Regression",
         "0.6241715399610136"
        ],
        [
         "Naive Bayes",
         "0.5984405458089669"
        ],
        [
         "k-Nearest Neighbors",
         "0.5684210526315789"
        ],
        [
         "Decision Tree",
         "0.7844054580896687"
        ]
       ],
       "shape": {
        "columns": 1,
        "rows": 4
       }
      },
      "text/html": [
       "<div>\n",
       "<style scoped>\n",
       "    .dataframe tbody tr th:only-of-type {\n",
       "        vertical-align: middle;\n",
       "    }\n",
       "\n",
       "    .dataframe tbody tr th {\n",
       "        vertical-align: top;\n",
       "    }\n",
       "\n",
       "    .dataframe thead th {\n",
       "        text-align: right;\n",
       "    }\n",
       "</style>\n",
       "<table border=\"1\" class=\"dataframe\">\n",
       "  <thead>\n",
       "    <tr style=\"text-align: right;\">\n",
       "      <th></th>\n",
       "      <th>Original dataset</th>\n",
       "    </tr>\n",
       "  </thead>\n",
       "  <tbody>\n",
       "    <tr>\n",
       "      <th>Logistic Regression</th>\n",
       "      <td>0.624172</td>\n",
       "    </tr>\n",
       "    <tr>\n",
       "      <th>Naive Bayes</th>\n",
       "      <td>0.598441</td>\n",
       "    </tr>\n",
       "    <tr>\n",
       "      <th>k-Nearest Neighbors</th>\n",
       "      <td>0.568421</td>\n",
       "    </tr>\n",
       "    <tr>\n",
       "      <th>Decision Tree</th>\n",
       "      <td>0.784405</td>\n",
       "    </tr>\n",
       "  </tbody>\n",
       "</table>\n",
       "</div>"
      ],
      "text/plain": [
       "                     Original dataset\n",
       "Logistic Regression          0.624172\n",
       "Naive Bayes                  0.598441\n",
       "k-Nearest Neighbors          0.568421\n",
       "Decision Tree                0.784405"
      ]
     },
     "execution_count": 42,
     "metadata": {},
     "output_type": "execute_result"
    }
   ],
   "source": [
    "# Dataset original\n",
    "acc = []\n",
    "for clf_name, clf in clfs.items():\n",
    "    y_pred = clf.predict(X_test)\n",
    "    acc.append(accuracy_score(y_test, y_pred))\n",
    "\n",
    "acc_all = pd.DataFrame({\"Original dataset\": acc},\n",
    "                       index=clf_keys)\n",
    "acc_all"
   ]
  },
  {
   "cell_type": "code",
   "execution_count": 43,
   "id": "d59f8c90",
   "metadata": {},
   "outputs": [
    {
     "name": "stdout",
     "output_type": "stream",
     "text": [
      "Validación cruzada sobre los datos originales: comienza!\n"
     ]
    },
    {
     "name": "stderr",
     "output_type": "stream",
     "text": [
      "/opt/homebrew/anaconda3/envs/Programacion_II/lib/python3.9/site-packages/sklearn/linear_model/_logistic.py:465: ConvergenceWarning: lbfgs failed to converge (status=1):\n",
      "STOP: TOTAL NO. of ITERATIONS REACHED LIMIT.\n",
      "\n",
      "Increase the number of iterations (max_iter) or scale the data as shown in:\n",
      "    https://scikit-learn.org/stable/modules/preprocessing.html\n",
      "Please also refer to the documentation for alternative solver options:\n",
      "    https://scikit-learn.org/stable/modules/linear_model.html#logistic-regression\n",
      "  n_iter_i = _check_optimize_result(\n",
      "/opt/homebrew/anaconda3/envs/Programacion_II/lib/python3.9/site-packages/sklearn/linear_model/_logistic.py:465: ConvergenceWarning: lbfgs failed to converge (status=1):\n",
      "STOP: TOTAL NO. of ITERATIONS REACHED LIMIT.\n",
      "\n",
      "Increase the number of iterations (max_iter) or scale the data as shown in:\n",
      "    https://scikit-learn.org/stable/modules/preprocessing.html\n",
      "Please also refer to the documentation for alternative solver options:\n",
      "    https://scikit-learn.org/stable/modules/linear_model.html#logistic-regression\n",
      "  n_iter_i = _check_optimize_result(\n",
      "/opt/homebrew/anaconda3/envs/Programacion_II/lib/python3.9/site-packages/sklearn/linear_model/_logistic.py:465: ConvergenceWarning: lbfgs failed to converge (status=1):\n",
      "STOP: TOTAL NO. of ITERATIONS REACHED LIMIT.\n",
      "\n",
      "Increase the number of iterations (max_iter) or scale the data as shown in:\n",
      "    https://scikit-learn.org/stable/modules/preprocessing.html\n",
      "Please also refer to the documentation for alternative solver options:\n",
      "    https://scikit-learn.org/stable/modules/linear_model.html#logistic-regression\n",
      "  n_iter_i = _check_optimize_result(\n"
     ]
    },
    {
     "name": "stdout",
     "output_type": "stream",
     "text": [
      "Logistic Regression validación cruzada: termina!\n",
      "Naive Bayes validación cruzada: termina!\n",
      "k-Nearest Neighbors validación cruzada: termina!\n",
      "Decision Tree validación cruzada: termina!\n",
      "Validación cruzada sobre los datos originales: termina!\n",
      "\n"
     ]
    }
   ],
   "source": [
    "scoring = [\"accuracy\", \"roc_auc\"]\n",
    "random_state=10\n",
    "\n",
    "scores = []\n",
    "# Original dataset\n",
    "print(\"Validación cruzada sobre los datos originales: comienza!\")\n",
    "for clf_name, clf in clfs.items():\n",
    "    score = pd.DataFrame(cross_validate(clf, X, y, cv=StratifiedKFold(3, random_state=random_state, shuffle=True), scoring=scoring)).mean()\n",
    "    scores.append(score)\n",
    "    print(clf_name, \"validación cruzada: termina!\")\n",
    "cv_scores = pd.concat(scores, axis=1).rename(columns=dict(zip(range(len(clf_keys)), clf_keys)))\n",
    "print(\"Validación cruzada sobre los datos originales: termina!\\n\")"
   ]
  },
  {
   "cell_type": "code",
   "execution_count": 44,
   "id": "c70b8d91",
   "metadata": {},
   "outputs": [
    {
     "name": "stdout",
     "output_type": "stream",
     "text": [
      "Cross-validation accuracy\n",
      "Original data    0.642957\n"
     ]
    },
    {
     "data": {
      "image/png": "[encoded data removed]",
      "text/plain": [
       "<Figure size 1000x800 with 1 Axes>"
      ]
     },
     "metadata": {},
     "output_type": "display_data"
    }
   ],
   "source": [
    "cv_acc_all = pd.concat([cv_scores.loc[\"test_accuracy\"].rename(\"Original data\")], \n",
    "                       axis=1)\n",
    "\n",
    "print(\"Cross-validation accuracy\\n\" + cv_acc_all.mean().to_string())\n",
    "ax = cv_acc_all.plot.bar(figsize=(10, 8))\n",
    "for p in ax.patches:\n",
    "    ax.annotate(str(p.get_height().round(3)), (p.get_x()*0.985, p.get_height()*1.003))\n",
    "plt.xticks(rotation=90)\n",
    "plt.ylim((0.5, 0.8))\n",
    "plt.title(\"Cross-validation Accuracy\")\n",
    "plt.grid()\n",
    "plt.legend()\n",
    "plt.show()"
   ]
  },
  {
   "cell_type": "code",
   "execution_count": 45,
   "id": "d4f25925",
   "metadata": {},
   "outputs": [
    {
     "name": "stdout",
     "output_type": "stream",
     "text": [
      "Cross-validation ROC AUC score\n",
      "Original data    0.603225\n"
     ]
    },
    {
     "data": {
      "image/png": "[encoded data removed]",
      "text/plain": [
       "<Figure size 1000x800 with 1 Axes>"
      ]
     },
     "metadata": {},
     "output_type": "display_data"
    }
   ],
   "source": [
    "cv_roc_auc_all = pd.concat([cv_scores.loc[\"test_roc_auc\"].rename(\"Original data\")], \n",
    "                           axis=1)\n",
    "\n",
    "print(\"Cross-validation ROC AUC score\\n\" + cv_roc_auc_all.mean().to_string())\n",
    "ax = cv_roc_auc_all.plot.bar(figsize=(10, 8))\n",
    "for p in ax.patches:\n",
    "    ax.annotate(str(p.get_height().round(3)), (p.get_x()*0.985, p.get_height()*1.003))\n",
    "plt.xticks(rotation=90)\n",
    "plt.ylim((0.5, 0.8))\n",
    "plt.title(\"Cross-validation ROC AUC Score\")\n",
    "plt.grid()\n",
    "plt.legend()\n",
    "plt.show()"
   ]
  },
  {
   "cell_type": "code",
   "execution_count": 46,
   "id": "8fb4ded4",
   "metadata": {},
   "outputs": [
    {
     "name": "stdout",
     "output_type": "stream",
     "text": [
      "Cross-validation fit time\n",
      "Original data    3.25116\n"
     ]
    },
    {
     "data": {
      "image/png": "[encoded data removed]",
      "text/plain": [
       "<Figure size 1000x800 with 1 Axes>"
      ]
     },
     "metadata": {},
     "output_type": "display_data"
    }
   ],
   "source": [
    "# Fit time\n",
    "cv_fit_time_all = pd.concat([cv_scores.loc[\"fit_time\"].rename(\"Original data\")], \n",
    "                           axis=1)\n",
    "\n",
    "print(\"Cross-validation fit time\\n\" + cv_fit_time_all.mean().to_string())\n",
    "ax = cv_fit_time_all.plot.bar(figsize=(10, 8))\n",
    "for p in ax.patches:\n",
    "    ax.annotate(str(p.get_height().round(3)), (p.get_x()*0.985, p.get_height()*1.003))\n",
    "plt.xticks(rotation=90)\n",
    "plt.yscale(\"log\")\n",
    "plt.title(\"Cross-validation Fit Time\")\n",
    "plt.grid()\n",
    "plt.legend()\n",
    "plt.show()"
   ]
  },
  {
   "cell_type": "code",
   "execution_count": 49,
   "id": "ca785c34",
   "metadata": {},
   "outputs": [
    {
     "ename": "ValueError",
     "evalue": "The feature names should match those that were passed during fit.\nFeature names unseen at fit time:\n- breast_cancer_diagnosis_code_C50921\n- breast_cancer_diagnosis_code_C50922\n- patient_state_AK\n- patient_state_HI\nFeature names seen at fit time, yet now missing:\n- breast_cancer_diagnosis_code_1759\n- breast_cancer_diagnosis_code_C50\n- breast_cancer_diagnosis_code_C5001\n- breast_cancer_diagnosis_code_C50021\n- breast_cancer_diagnosis_code_C5011\n- ...\n",
     "output_type": "error",
     "traceback": [
      "\u001b[0;31m---------------------------------------------------------------------------\u001b[0m",
      "\u001b[0;31mValueError\u001b[0m                                Traceback (most recent call last)",
      "Cell \u001b[0;32mIn[49], line 1\u001b[0m\n\u001b[0;32m----> 1\u001b[0m \u001b[43mclfs\u001b[49m\u001b[43m[\u001b[49m\u001b[38;5;124;43m'\u001b[39;49m\u001b[38;5;124;43mDecision Tree\u001b[39;49m\u001b[38;5;124;43m'\u001b[39;49m\u001b[43m]\u001b[49m\u001b[38;5;241;43m.\u001b[39;49m\u001b[43mpredict\u001b[49m\u001b[43m(\u001b[49m\u001b[43mdf_test_encoded\u001b[49m\u001b[43m)\u001b[49m\n",
      "File \u001b[0;32m/opt/homebrew/anaconda3/envs/Programacion_II/lib/python3.9/site-packages/sklearn/tree/_classes.py:530\u001b[0m, in \u001b[0;36mBaseDecisionTree.predict\u001b[0;34m(self, X, check_input)\u001b[0m\n\u001b[1;32m    507\u001b[0m \u001b[38;5;250m\u001b[39m\u001b[38;5;124;03m\"\"\"Predict class or regression value for X.\u001b[39;00m\n\u001b[1;32m    508\u001b[0m \n\u001b[1;32m    509\u001b[0m \u001b[38;5;124;03mFor a classification model, the predicted class for each sample in X is\u001b[39;00m\n\u001b[0;32m   (...)\u001b[0m\n\u001b[1;32m    527\u001b[0m \u001b[38;5;124;03m    The predicted classes, or the predict values.\u001b[39;00m\n\u001b[1;32m    528\u001b[0m \u001b[38;5;124;03m\"\"\"\u001b[39;00m\n\u001b[1;32m    529\u001b[0m check_is_fitted(\u001b[38;5;28mself\u001b[39m)\n\u001b[0;32m--> 530\u001b[0m X \u001b[38;5;241m=\u001b[39m \u001b[38;5;28;43mself\u001b[39;49m\u001b[38;5;241;43m.\u001b[39;49m\u001b[43m_validate_X_predict\u001b[49m\u001b[43m(\u001b[49m\u001b[43mX\u001b[49m\u001b[43m,\u001b[49m\u001b[43m \u001b[49m\u001b[43mcheck_input\u001b[49m\u001b[43m)\u001b[49m\n\u001b[1;32m    531\u001b[0m proba \u001b[38;5;241m=\u001b[39m \u001b[38;5;28mself\u001b[39m\u001b[38;5;241m.\u001b[39mtree_\u001b[38;5;241m.\u001b[39mpredict(X)\n\u001b[1;32m    532\u001b[0m n_samples \u001b[38;5;241m=\u001b[39m X\u001b[38;5;241m.\u001b[39mshape[\u001b[38;5;241m0\u001b[39m]\n",
      "File \u001b[0;32m/opt/homebrew/anaconda3/envs/Programacion_II/lib/python3.9/site-packages/sklearn/tree/_classes.py:489\u001b[0m, in \u001b[0;36mBaseDecisionTree._validate_X_predict\u001b[0;34m(self, X, check_input)\u001b[0m\n\u001b[1;32m    487\u001b[0m \u001b[38;5;28;01melse\u001b[39;00m:\n\u001b[1;32m    488\u001b[0m     ensure_all_finite \u001b[38;5;241m=\u001b[39m \u001b[38;5;28;01mTrue\u001b[39;00m\n\u001b[0;32m--> 489\u001b[0m X \u001b[38;5;241m=\u001b[39m \u001b[43mvalidate_data\u001b[49m\u001b[43m(\u001b[49m\n\u001b[1;32m    490\u001b[0m \u001b[43m    \u001b[49m\u001b[38;5;28;43mself\u001b[39;49m\u001b[43m,\u001b[49m\n\u001b[1;32m    491\u001b[0m \u001b[43m    \u001b[49m\u001b[43mX\u001b[49m\u001b[43m,\u001b[49m\n\u001b[1;32m    492\u001b[0m \u001b[43m    \u001b[49m\u001b[43mdtype\u001b[49m\u001b[38;5;241;43m=\u001b[39;49m\u001b[43mDTYPE\u001b[49m\u001b[43m,\u001b[49m\n\u001b[1;32m    493\u001b[0m \u001b[43m    \u001b[49m\u001b[43maccept_sparse\u001b[49m\u001b[38;5;241;43m=\u001b[39;49m\u001b[38;5;124;43m\"\u001b[39;49m\u001b[38;5;124;43mcsr\u001b[39;49m\u001b[38;5;124;43m\"\u001b[39;49m\u001b[43m,\u001b[49m\n\u001b[1;32m    494\u001b[0m \u001b[43m    \u001b[49m\u001b[43mreset\u001b[49m\u001b[38;5;241;43m=\u001b[39;49m\u001b[38;5;28;43;01mFalse\u001b[39;49;00m\u001b[43m,\u001b[49m\n\u001b[1;32m    495\u001b[0m \u001b[43m    \u001b[49m\u001b[43mensure_all_finite\u001b[49m\u001b[38;5;241;43m=\u001b[39;49m\u001b[43mensure_all_finite\u001b[49m\u001b[43m,\u001b[49m\n\u001b[1;32m    496\u001b[0m \u001b[43m\u001b[49m\u001b[43m)\u001b[49m\n\u001b[1;32m    497\u001b[0m \u001b[38;5;28;01mif\u001b[39;00m issparse(X) \u001b[38;5;129;01mand\u001b[39;00m (\n\u001b[1;32m    498\u001b[0m     X\u001b[38;5;241m.\u001b[39mindices\u001b[38;5;241m.\u001b[39mdtype \u001b[38;5;241m!=\u001b[39m np\u001b[38;5;241m.\u001b[39mintc \u001b[38;5;129;01mor\u001b[39;00m X\u001b[38;5;241m.\u001b[39mindptr\u001b[38;5;241m.\u001b[39mdtype \u001b[38;5;241m!=\u001b[39m np\u001b[38;5;241m.\u001b[39mintc\n\u001b[1;32m    499\u001b[0m ):\n\u001b[1;32m    500\u001b[0m     \u001b[38;5;28;01mraise\u001b[39;00m \u001b[38;5;167;01mValueError\u001b[39;00m(\u001b[38;5;124m\"\u001b[39m\u001b[38;5;124mNo support for np.int64 index based sparse matrices\u001b[39m\u001b[38;5;124m\"\u001b[39m)\n",
      "File \u001b[0;32m/opt/homebrew/anaconda3/envs/Programacion_II/lib/python3.9/site-packages/sklearn/utils/validation.py:2919\u001b[0m, in \u001b[0;36mvalidate_data\u001b[0;34m(_estimator, X, y, reset, validate_separately, skip_check_array, **check_params)\u001b[0m\n\u001b[1;32m   2835\u001b[0m \u001b[38;5;28;01mdef\u001b[39;00m \u001b[38;5;21mvalidate_data\u001b[39m(\n\u001b[1;32m   2836\u001b[0m     _estimator,\n\u001b[1;32m   2837\u001b[0m     \u001b[38;5;241m/\u001b[39m,\n\u001b[0;32m   (...)\u001b[0m\n\u001b[1;32m   2843\u001b[0m     \u001b[38;5;241m*\u001b[39m\u001b[38;5;241m*\u001b[39mcheck_params,\n\u001b[1;32m   2844\u001b[0m ):\n\u001b[1;32m   2845\u001b[0m \u001b[38;5;250m    \u001b[39m\u001b[38;5;124;03m\"\"\"Validate input data and set or check feature names and counts of the input.\u001b[39;00m\n\u001b[1;32m   2846\u001b[0m \n\u001b[1;32m   2847\u001b[0m \u001b[38;5;124;03m    This helper function should be used in an estimator that requires input\u001b[39;00m\n\u001b[0;32m   (...)\u001b[0m\n\u001b[1;32m   2917\u001b[0m \u001b[38;5;124;03m        validated.\u001b[39;00m\n\u001b[1;32m   2918\u001b[0m \u001b[38;5;124;03m    \"\"\"\u001b[39;00m\n\u001b[0;32m-> 2919\u001b[0m     \u001b[43m_check_feature_names\u001b[49m\u001b[43m(\u001b[49m\u001b[43m_estimator\u001b[49m\u001b[43m,\u001b[49m\u001b[43m \u001b[49m\u001b[43mX\u001b[49m\u001b[43m,\u001b[49m\u001b[43m \u001b[49m\u001b[43mreset\u001b[49m\u001b[38;5;241;43m=\u001b[39;49m\u001b[43mreset\u001b[49m\u001b[43m)\u001b[49m\n\u001b[1;32m   2920\u001b[0m     tags \u001b[38;5;241m=\u001b[39m get_tags(_estimator)\n\u001b[1;32m   2921\u001b[0m     \u001b[38;5;28;01mif\u001b[39;00m y \u001b[38;5;129;01mis\u001b[39;00m \u001b[38;5;28;01mNone\u001b[39;00m \u001b[38;5;129;01mand\u001b[39;00m tags\u001b[38;5;241m.\u001b[39mtarget_tags\u001b[38;5;241m.\u001b[39mrequired:\n",
      "File \u001b[0;32m/opt/homebrew/anaconda3/envs/Programacion_II/lib/python3.9/site-packages/sklearn/utils/validation.py:2777\u001b[0m, in \u001b[0;36m_check_feature_names\u001b[0;34m(estimator, X, reset)\u001b[0m\n\u001b[1;32m   2774\u001b[0m \u001b[38;5;28;01mif\u001b[39;00m \u001b[38;5;129;01mnot\u001b[39;00m missing_names \u001b[38;5;129;01mand\u001b[39;00m \u001b[38;5;129;01mnot\u001b[39;00m unexpected_names:\n\u001b[1;32m   2775\u001b[0m     message \u001b[38;5;241m+\u001b[39m\u001b[38;5;241m=\u001b[39m \u001b[38;5;124m\"\u001b[39m\u001b[38;5;124mFeature names must be in the same order as they were in fit.\u001b[39m\u001b[38;5;130;01m\\n\u001b[39;00m\u001b[38;5;124m\"\u001b[39m\n\u001b[0;32m-> 2777\u001b[0m \u001b[38;5;28;01mraise\u001b[39;00m \u001b[38;5;167;01mValueError\u001b[39;00m(message)\n",
      "\u001b[0;31mValueError\u001b[0m: The feature names should match those that were passed during fit.\nFeature names unseen at fit time:\n- breast_cancer_diagnosis_code_C50921\n- breast_cancer_diagnosis_code_C50922\n- patient_state_AK\n- patient_state_HI\nFeature names seen at fit time, yet now missing:\n- breast_cancer_diagnosis_code_1759\n- breast_cancer_diagnosis_code_C50\n- breast_cancer_diagnosis_code_C5001\n- breast_cancer_diagnosis_code_C50021\n- breast_cancer_diagnosis_code_C5011\n- ...\n"
     ]
    }
   ],
   "source": [
    "clfs['Decision Tree'].predict(df_test_encoded)"
   ]
  },
  {
   "cell_type": "code",
   "execution_count": null,
   "id": "f911dfd5",
   "metadata": {},
   "outputs": [
    {
     "ename": "",
     "evalue": "",
     "output_type": "error",
     "traceback": [
      "\u001b[1;31mnotebook controller is DISPOSED. \n",
      "\u001b[1;31mView Jupyter <a href='command:jupyter.viewOutput'>log</a> for further details."
     ]
    },
    {
     "ename": "",
     "evalue": "",
     "output_type": "error",
     "traceback": [
      "\u001b[1;31mnotebook controller is DISPOSED. \n",
      "\u001b[1;31mView Jupyter <a href='command:jupyter.viewOutput'>log</a> for further details."
     ]
    }
   ],
   "source": []
  }
 ],
 "metadata": {
  "kernelspec": {
   "display_name": "Programacion_II",
   "language": "python",
   "name": "python3"
  },
  "language_info": {
   "codemirror_mode": {
    "name": "ipython",
    "version": 3
   },
   "file_extension": ".py",
   "mimetype": "text/x-python",
   "name": "python",
   "nbconvert_exporter": "python",
   "pygments_lexer": "ipython3",
   "version": "3.9.21"
  }
 },
 "nbformat": 4,
 "nbformat_minor": 5
}
